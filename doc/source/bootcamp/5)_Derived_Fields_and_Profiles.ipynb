{
 "metadata": {
  "name": "",
  "signature": "sha256:8a321dcf118e02b88121b842323e320a4004654ae0f86ccaa8bc6c4345f42359"
 },
 "nbformat": 3,
 "nbformat_minor": 0,
 "worksheets": [
  {
   "cells": [
    {
     "cell_type": "markdown",
     "metadata": {},
     "source": [
      "# Derived Fields and Profiles\n",
      "\n",
      "One of the most powerful features in yt is the ability to create derived fields that act and look exactly like fields that exist on disk.  This means that they will be generated on demand and can be used anywhere a field that exists on disk would be used.  Additionally, you can create them by just writing python functions."
     ]
    },
    {
     "cell_type": "code",
     "collapsed": false,
     "input": [
      "%matplotlib inline\n",
      "from yt.mods import *"
     ],
     "language": "python",
     "metadata": {},
     "outputs": []
    },
    {
     "cell_type": "markdown",
     "metadata": {},
     "source": [
      "## Derived Fields\n",
      "\n",
      "This is an example of the simplest possible way to create a derived field.  All derived fields are defined by a function and some metadata; that metadata can include units, LaTeX-friendly names, conversion factors, and so on.  Fields can be defined in the way in the next cell.  What this does is create a function which accepts two arguments and then provide the units for that field.  In this case, our field is `Dinosaurs` and our units are `Trex/s`.  The function itself can access any fields that are in the simulation, and it does so by requesting data from the object called `data`."
     ]
    },
    {
     "cell_type": "code",
     "collapsed": false,
     "input": [
      "@derived_field(name = \"dinosaurs\", units = \"K * cm/s\")\n",
      "def _dinos(field, data):\n",
      "    return data[\"temperature\"] * data[\"velocity_magnitude\"]"
     ],
     "language": "python",
     "metadata": {},
     "outputs": []
    },
    {
     "cell_type": "markdown",
     "metadata": {},
     "source": [
      "One important thing to note is that derived fields must be defined *before* any datasets are loaded.  Let's load up our data and take a look at some quantities."
     ]
    },
    {
     "cell_type": "code",
     "collapsed": false,
     "input": [
      "pf = load(\"IsolatedGalaxy/galaxy0030/galaxy0030\")\n",
      "dd = pf.h.all_data()\n",
      "print dd.quantities.keys()"
     ],
     "language": "python",
     "metadata": {},
     "outputs": []
    },
    {
     "cell_type": "markdown",
     "metadata": {},
     "source": [
      "One interesting question is, what are the minimum and maximum values of dinosaur production rates in our isolated galaxy?  We can do that by examining the `Extrema` quantity -- the exact same way that we would for Density, Temperature, and so on."
     ]
    },
    {
     "cell_type": "code",
     "collapsed": false,
     "input": [
      "print dd.quantities.extrema(\"dinosaurs\")"
     ],
     "language": "python",
     "metadata": {},
     "outputs": []
    },
    {
     "cell_type": "markdown",
     "metadata": {},
     "source": [
      "We can do the same for the average quantities as well."
     ]
    },
    {
     "cell_type": "code",
     "collapsed": false,
     "input": [
      "print dd.quantities.weighted_average_quantity(\"dinosaurs\", weight=\"temperature\")"
     ],
     "language": "python",
     "metadata": {},
     "outputs": []
    },
    {
     "cell_type": "markdown",
     "metadata": {},
     "source": [
      "## A Few Other Quantities\n",
      "\n",
      "We can ask other quantities of our data, as well.  For instance, this sequence of operations will find the most dense point, center a sphere on it, calculate the bulk velocity of that sphere, calculate the baryonic angular momentum vector, and then the density extrema.  All of this is done in a memory conservative way: if you have an absolutely enormous dataset, yt will split that dataset into pieces, apply intermediate reductions and then a final reduction to calculate your quantity."
     ]
    },
    {
     "cell_type": "code",
     "collapsed": false,
     "input": [
      "sp = pf.sphere(\"max\", (10.0, 'kpc'))\n",
      "bv = sp.quantities.bulk_velocity()\n",
      "L = sp.quantities.angular_momentum_vector()\n",
      "rho_min, rho_max = sp.quantities.extrema(\"density\")\n",
      "print bv, L, rho_min, rho_max"
     ],
     "language": "python",
     "metadata": {},
     "outputs": []
    },
    {
     "cell_type": "markdown",
     "metadata": {},
     "source": [
      "## Profiles\n",
      "\n",
      "yt provides the ability to bin in 1, 2 and 3 dimensions.  This means discretizing in one or more dimensions of phase space (density, temperature, etc) and then calculating either the total value of a field in each bin or the average value of a field in each bin.\n",
      "\n",
      "We do this using the objects `Profile1D`, `Profile2D`, and `Profile3D`.  The first two are the most common since they are the easiest to visualize.\n",
      "\n",
      "This first set of commands manually creates a `BinnedProfile1D` from the sphere we created earlier, binned in 32 bins according to density between `rho_min` and `rho_max`, and then takes the density-weighted average of the fields `Temperature` and (previously-defined) `Dinosaurs`.  We then plot it in a loglog plot."
     ]
    },
    {
     "cell_type": "code",
     "collapsed": false,
     "input": [
      "prof = Profile1D(sp, \"density\", 32, rho_min, rho_max, True, weight_field=\"cell_mass\")\n",
      "prof.add_fields([\"temperature\",\"dinosaurs\"])\n",
      "pylab.loglog(np.array(prof.x), np.array(prof[\"temperature\"]), \"-x\")"
     ],
     "language": "python",
     "metadata": {},
     "outputs": []
    },
    {
     "cell_type": "markdown",
     "metadata": {},
     "source": [
      "Now we plot the `Dinosaurs` field."
     ]
    },
    {
     "cell_type": "code",
     "collapsed": false,
     "input": [
      "pylab.loglog(np.array(prof.x), np.array(prof[\"dinosaurs\"]), '-x')"
     ],
     "language": "python",
     "metadata": {},
     "outputs": []
    },
    {
     "cell_type": "markdown",
     "metadata": {},
     "source": [
      "If we want to see the total mass in every bin, we profile the `cell_mass` field with no weight.  Specifying `weight=None` will simply take the total value in every bin and add that up."
     ]
    },
    {
     "cell_type": "code",
     "collapsed": false,
     "input": [
      "prof = Profile1D(sp, \"density\", 32, rho_min, rho_max, True, weight_field=None)\n",
      "prof.add_fields([\"cell_mass\"])\n",
      "pylab.loglog(np.array(prof.x), np.array(prof[\"cell_mass\"].in_units(\"Msun\")), '-x')"
     ],
     "language": "python",
     "metadata": {},
     "outputs": []
    },
    {
     "cell_type": "markdown",
     "metadata": {},
     "source": [
      "## Field Parameters\n",
      "\n",
      "Field parameters are a method of passing information to derived fields.  For instance, you might pass in information about a vector you want to use as a basis for a coordinate transformation.  yt often uses things like `bulk_velocity` to identify velocities that should be subtracted off.  Here we show how that works:"
     ]
    },
    {
     "cell_type": "code",
     "collapsed": false,
     "input": [
      "sp_small = pf.sphere(\"max\", (50.0, 'kpc'))\n",
      "bv = sp_small.quantities[\"BulkVelocity\"]()\n",
      "\n",
      "sp = pf.sphere(\"max\", (0.1, 'Mpc'))\n",
      "rv1 = sp.quantities[\"Extrema\"](\"radial_velocity\")\n",
      "\n",
      "sp.clear_data()\n",
      "sp.set_field_parameter(\"bulk_velocity\", bv)\n",
      "rv2 = sp.quantities[\"Extrema\"](\"radial_velocity\")\n",
      "\n",
      "print bv\n",
      "print rv1\n",
      "print rv2"
     ],
     "language": "python",
     "metadata": {},
     "outputs": []
    }
   ],
   "metadata": {}
  }
 ]
}