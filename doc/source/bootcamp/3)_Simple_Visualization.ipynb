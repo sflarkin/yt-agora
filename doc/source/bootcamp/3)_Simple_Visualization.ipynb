{
 "metadata": {
  "name": ""
 },
 "nbformat": 3,
 "nbformat_minor": 0,
 "worksheets": [
  {
   "cells": [
    {
     "cell_type": "markdown",
     "metadata": {},
     "source": [
      "# Simple Visualizations of Data\n",
      "\n",
      "Just like in our first notebook, we have to load yt and then some data."
     ]
    },
    {
     "cell_type": "code",
     "collapsed": false,
     "input": [
      "from yt.imods import *"
     ],
     "language": "python",
     "metadata": {},
     "outputs": []
    },
    {
     "cell_type": "markdown",
     "metadata": {},
     "source": [
      "For this notebook, we'll load up a cosmology dataset."
     ]
    },
    {
     "cell_type": "code",
     "collapsed": false,
     "input": [
      "pf = load(\"enzo_tiny_cosmology/DD0046/DD0046\")\n",
      "print \"Redshift =\", pf.current_redshift"
     ],
     "language": "python",
     "metadata": {},
     "outputs": []
    },
    {
     "cell_type": "markdown",
     "metadata": {},
     "source": [
      "In the terms that yt uses, a projection is a line integral through the domain.  This can either be unweighted (in which case a column density is returned) or weighted, in which case an average value is returned.  Projections are, like all other data objects in yt, full-fledged data objects that churn through data and present that to you.  However, we also provide a simple method of creating Projections and plotting them in a single step.  This is called a Plot Window, here specifically known as a `ProjectionPlot`.  One thing to note is that in yt, we project all the way through the entire domain at a single time.  This means that the first call to projecting can be somewhat time consuming, but panning, zooming and plotting are all quite fast.\n",
      "\n",
      "yt is designed to make it easy to make nice plots and straightforward to modify those plots directly.  The cookbook in the documentation includes detailed examples of this."
     ]
    },
    {
     "cell_type": "code",
     "collapsed": false,
     "input": [
      "p = ProjectionPlot(pf, \"y\", \"density\")\n",
      "p.show()"
     ],
     "language": "python",
     "metadata": {},
     "outputs": []
    },
    {
     "cell_type": "markdown",
     "metadata": {},
     "source": [
      "The `show` command simply sends the plot to the IPython notebook.  You can also call `p.save()` which will save the plot to the file system.  This function accepts an argument, which will be pre-prended to the filename and can be used to name it based on the width or to supply a location.\n",
      "\n",
      "Now we'll zoom and pan a bit."
     ]
    },
    {
     "cell_type": "code",
     "collapsed": false,
     "input": [
      "p.zoom(2.0)"
     ],
     "language": "python",
     "metadata": {},
     "outputs": []
    },
    {
     "cell_type": "code",
     "collapsed": false,
     "input": [
      "p.pan_rel((0.1, 0.0))"
     ],
     "language": "python",
     "metadata": {},
     "outputs": []
    },
    {
     "cell_type": "code",
     "collapsed": false,
     "input": [
      "p.zoom(10.0)"
     ],
     "language": "python",
     "metadata": {},
     "outputs": []
    },
    {
     "cell_type": "code",
     "collapsed": false,
     "input": [
      "p.pan_rel((-0.25, -0.5))"
     ],
     "language": "python",
     "metadata": {},
     "outputs": []
    },
    {
     "cell_type": "code",
     "collapsed": false,
     "input": [
      "p.zoom(0.1)"
     ],
     "language": "python",
     "metadata": {},
     "outputs": []
    },
    {
     "cell_type": "markdown",
     "metadata": {},
     "source": [
      "If we specify multiple fields, each time we call `show` we get multiple plots back.  Same for `save`!"
     ]
    },
    {
     "cell_type": "code",
     "collapsed": false,
     "input": [
      "p = ProjectionPlot(pf, \"z\", [\"density\", \"temperature\"], weight_field=\"density\")\n",
      "p.show()"
     ],
     "language": "python",
     "metadata": {},
     "outputs": []
    },
    {
     "cell_type": "markdown",
     "metadata": {},
     "source": [
      "We can adjust the colormap on a field-by-field basis."
     ]
    },
    {
     "cell_type": "code",
     "collapsed": false,
     "input": [
      "p.set_cmap(\"temperature\", \"hot\")"
     ],
     "language": "python",
     "metadata": {},
     "outputs": []
    },
    {
     "cell_type": "markdown",
     "metadata": {},
     "source": [
      "And, we can re-center the plot on different locations.  One possible use of this would be to make a single `ProjectionPlot` which you move around to look at different regions in your simulation, saving at each one."
     ]
    },
    {
     "cell_type": "code",
     "collapsed": false,
     "input": [
      "v, c = pf.h.find_max(\"density\")\n",
      "p.set_center((c[0], c[1]))\n",
      "p.zoom(10)"
     ],
     "language": "python",
     "metadata": {},
     "outputs": []
    },
    {
     "cell_type": "markdown",
     "metadata": {},
     "source": [
      "Okay, let's load up a bigger simulation (from `Enzo_64` this time) and make a slice plot."
     ]
    },
    {
     "cell_type": "code",
     "collapsed": false,
     "input": [
      "pf = load(\"Enzo_64/DD0043/data0043\")\n",
      "s = SlicePlot(pf, \"z\", [\"density\", \"velocity_magnitude\"], center=\"max\")\n",
      "s.set_cmap(\"velocity_magnitude\", \"kamae\")\n",
      "s.zoom(10.0)"
     ],
     "language": "python",
     "metadata": {},
     "outputs": []
    },
    {
     "cell_type": "markdown",
     "metadata": {},
     "source": [
      "We can adjust the logging of various fields:"
     ]
    },
    {
     "cell_type": "code",
     "collapsed": false,
     "input": [
      "s.set_log(\"velocity_magnitude\", True)"
     ],
     "language": "python",
     "metadata": {},
     "outputs": []
    },
    {
     "cell_type": "markdown",
     "metadata": {},
     "source": [
      "yt provides many different annotations for your plots.  You can see all of these in the documentation, or if you type `s.annotate_` and press tab, a list will show up here.  We'll annotate with velocity arrows."
     ]
    },
    {
     "cell_type": "code",
     "collapsed": false,
     "input": [
      "s.annotate_velocity()"
     ],
     "language": "python",
     "metadata": {},
     "outputs": []
    },
    {
     "cell_type": "markdown",
     "metadata": {},
     "source": [
      "Contours can also be overlaid:"
     ]
    },
    {
     "cell_type": "code",
     "collapsed": false,
     "input": [
      "s = SlicePlot(pf, \"x\", [\"density\"], center=\"max\")\n",
      "s.annotate_contour(\"temperature\")\n",
      "s.zoom(2.5)"
     ],
     "language": "python",
     "metadata": {},
     "outputs": []
    },
    {
     "cell_type": "markdown",
     "metadata": {},
     "source": [
      "Finally, we can save out to the file system."
     ]
    },
    {
     "cell_type": "code",
     "collapsed": false,
     "input": [
      "s.save()"
     ],
     "language": "python",
     "metadata": {},
     "outputs": []
    }
   ],
   "metadata": {}
  }
 ]
}