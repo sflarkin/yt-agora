{
 "metadata": {
  "name": ""
 },
 "nbformat": 3,
 "nbformat_minor": 0,
 "worksheets": [
  {
   "cells": [
    {
     "cell_type": "markdown",
     "metadata": {},
     "source": [
      "# Data Objects and Time Series Data\n",
      "\n",
      "Just like before, we will load up yt."
     ]
    },
    {
     "cell_type": "code",
     "collapsed": false,
     "input": [
      "from yt.imods import *"
     ],
     "language": "python",
     "metadata": {},
     "outputs": []
    },
    {
     "cell_type": "markdown",
     "metadata": {},
     "source": [
      "## Time Series Data\n",
      "\n",
      "Unlike before, instead of loading a single dataset, this time we'll load a bunch which we'll examine in sequence.  This command creates a `TimeSeriesData` object, which can be iterated over (including in parallel, which is outside the scope of this bootcamp) and analyzed.  There are some other helpful operations it can provide, but we'll stick to the basics here.\n",
      "\n",
      "Note that you can specify either a list of filenames, or a glob (i.e., asterisk) pattern in this."
     ]
    },
    {
     "cell_type": "code",
     "collapsed": false,
     "input": [
      "ts = TimeSeriesData.from_filenames(\"enzo_tiny_cosmology/*/*.hierarchy\")"
     ],
     "language": "python",
     "metadata": {},
     "outputs": []
    },
    {
     "cell_type": "markdown",
     "metadata": {},
     "source": [
      "### Example 1: Simple Time Series\n",
      "\n",
      "As a simple example of how we can use this functionality, let's find the min and max of the density as a function of time in this simulation.  To do this we use the construction `for pf in ts` where `pf` means \"Parameter File\" and `ts` is the \"Time Series\" we just loaded up.  For each parameter file, we'll create an object (`dd`) that covers the entire domain.  (`all_data` is a shorthand function for this.)  We'll then call the Derived Quantity `Extrema`, and append the min and max to our extrema outputs."
     ]
    },
    {
     "cell_type": "code",
     "collapsed": false,
     "input": [
      "rho_ex = []\n",
      "times = []\n",
      "for pf in ts:\n",
      "    dd = pf.h.all_data()\n",
      "    rho_ex.append(dd.quantities[\"Extrema\"](\"density\"))\n",
      "    times.append(pf.current_time.in_units(\"yr\"))\n",
      "rho_ex = np.array(rho_ex)"
     ],
     "language": "python",
     "metadata": {},
     "outputs": []
    },
    {
     "cell_type": "markdown",
     "metadata": {},
     "source": [
      "Now we plot the minimum and the maximum:"
     ]
    },
    {
     "cell_type": "code",
     "collapsed": false,
     "input": [
      "pylab.semilogy(times, rho_ex[:,0], '-xk')\n",
      "pylab.semilogy(times, rho_ex[:,1], '-xr')"
     ],
     "language": "python",
     "metadata": {},
     "outputs": []
    },
    {
     "cell_type": "markdown",
     "metadata": {},
     "source": [
      "### Example 2: Advanced Time Series\n",
      "\n",
      "Let's do something a bit different.  Let's calculate the total mass inside halos and outside halos.\n",
      "\n",
      "This actually touches a lot of different pieces of machinery in yt.  For every parameter file, we will run the halo finder HOP.  Then, we calculate the total mass in the domain.  Then, for each halo, we calculate the sum of the baryon mass in that halo.  We'll keep running tallies of these two things."
     ]
    },
    {
     "cell_type": "code",
     "collapsed": false,
     "input": [
      "mass = []\n",
      "zs = []\n",
      "for pf in ts:\n",
      "    halos = HaloFinder(pf)\n",
      "    dd = pf.h.all_data()\n",
      "    total_mass = dd.quantities[\"TotalQuantity\"](\"cell_mass\").in_cgs()\n",
      "    total_in_baryons = 0.0\n",
      "    for halo in halos:\n",
      "        sp = halo.get_sphere()\n",
      "        total_in_baryons += sp.quantities[\"TotalQuantity\"](\"cell_mass\").in_cgs()\n",
      "    mass.append(total_in_baryons/total_mass)\n",
      "    zs.append(pf.current_redshift)"
     ],
     "language": "python",
     "metadata": {},
     "outputs": []
    },
    {
     "cell_type": "markdown",
     "metadata": {},
     "source": [
      "Now let's plot them!"
     ]
    },
    {
     "cell_type": "code",
     "collapsed": false,
     "input": [
      "pylab.loglog(zs, mass, '-xb')"
     ],
     "language": "python",
     "metadata": {},
     "outputs": []
    },
    {
     "cell_type": "markdown",
     "metadata": {},
     "source": [
      "## Data Objects\n",
      "\n",
      "Time series data have many applications, but most of them rely on examining the underlying data in some way.  Below, we'll see how to use and manipulate data objects.\n",
      "\n",
      "### Ray Queries\n",
      "\n",
      "yt provides the ability to examine rays, or lines, through the domain.  Note that these are not periodic, unlike most other data objects.  We create a ray object and can then examine quantities of it.  Rays have the special fields `t` and `dts`, which correspond to the time the ray enters a given cell and the distance it travels through that cell.\n",
      "\n",
      "To create a ray, we specify the start and end points."
     ]
    },
    {
     "cell_type": "code",
     "collapsed": false,
     "input": [
      "ray = pf.h.ray([0.1, 0.2, 0.3], [0.9, 0.8, 0.7])\n",
      "pylab.semilogy(ray[\"t\"], ray[\"density\"])"
     ],
     "language": "python",
     "metadata": {},
     "outputs": []
    },
    {
     "cell_type": "code",
     "collapsed": false,
     "input": [
      "print ray[\"dts\"]"
     ],
     "language": "python",
     "metadata": {},
     "outputs": []
    },
    {
     "cell_type": "code",
     "collapsed": false,
     "input": [
      "print ray[\"t\"]"
     ],
     "language": "python",
     "metadata": {},
     "outputs": []
    },
    {
     "cell_type": "code",
     "collapsed": false,
     "input": [
      "print ray[\"x\"]"
     ],
     "language": "python",
     "metadata": {},
     "outputs": []
    },
    {
     "cell_type": "markdown",
     "metadata": {},
     "source": [
      "### Slice Queries\n",
      "\n",
      "While slices are often used for visualization, they can be useful for other operations as well.  yt regards slices as multi-resolution objects.  They are an array of cells that are not all the same size; it only returns the cells at the highest resolution that it intersects.  (This is true for all yt data objects.)  Slices and projections have the special fields `px`, `py`, `pdx` and `pdy`, which correspond to the coordinates and half-widths in the pixel plane."
     ]
    },
    {
     "cell_type": "code",
     "collapsed": false,
     "input": [
      "pf = load(\"IsolatedGalaxy/galaxy0030/galaxy0030\")\n",
      "v, c = pf.h.find_max(\"density\")\n",
      "sl = pf.h.slice(0, c[0])\n",
      "print sl[\"x\"], sl[\"z\"], sl[\"pdx\"]\n",
      "print sl[\"density\"].shape"
     ],
     "language": "python",
     "metadata": {},
     "outputs": []
    },
    {
     "cell_type": "markdown",
     "metadata": {},
     "source": [
      "If we want to do something interesting with a Slice, we can turn it into a `FixedResolutionBuffer`.  This object can be queried and will return a 2D array of values."
     ]
    },
    {
     "cell_type": "code",
     "collapsed": false,
     "input": [
      "frb = sl.to_frb((50.0, 'kpc'), 1024)\n",
      "print frb[\"density\"].shape"
     ],
     "language": "python",
     "metadata": {},
     "outputs": []
    },
    {
     "cell_type": "markdown",
     "metadata": {},
     "source": [
      "yt provides a few functions for writing arrays to disk, particularly in image form.  Here we'll write out the log of Density, and then use IPython to display it back here.  Note that for the most part, you will probably want to use a `PlotWindow` for this, but in the case that it is useful you can directly manipulate the data."
     ]
    },
    {
     "cell_type": "code",
     "collapsed": false,
     "input": [
      "write_image(np.log10(frb[\"density\"]), \"temp.png\")\n",
      "from IPython.core.display import Image\n",
      "Image(filename = \"temp.png\")"
     ],
     "language": "python",
     "metadata": {},
     "outputs": []
    },
    {
     "cell_type": "markdown",
     "metadata": {},
     "source": [
      "### Off-Axis Slices\n",
      "\n",
      "yt provides not only slices, but off-axis slices that are sometimes called \"cutting planes.\"  These are specified by (in order) a normal vector and a center.  Here we've set the normal vector to `[0.2, 0.3, 0.5]` and the center to be the point of maximum density.\n",
      "\n",
      "We can then turn these directly into plot windows using `to_pw`.  Note that the `to_pw` and `to_frb` methods are available on slices, off-axis slices, and projections, and can be used on any of them."
     ]
    },
    {
     "cell_type": "code",
     "collapsed": false,
     "input": [
      "cp = pf.h.cutting([0.2, 0.3, 0.5], \"max\")\n",
      "pw = cp.to_pw(fields = [\"density\"])"
     ],
     "language": "python",
     "metadata": {},
     "outputs": []
    },
    {
     "cell_type": "markdown",
     "metadata": {},
     "source": [
      "Once we have our plot window from our cutting plane, we can show it here."
     ]
    },
    {
     "cell_type": "code",
     "collapsed": false,
     "input": [
      "pw.show()"
     ],
     "language": "python",
     "metadata": {},
     "outputs": []
    },
    {
     "cell_type": "markdown",
     "metadata": {},
     "source": [
      "We can, as noted above, do the same with our slice:"
     ]
    },
    {
     "cell_type": "code",
     "collapsed": false,
     "input": [
      "pws = sl.to_pw(fields=[\"density\"])\n",
      "pws.show()"
     ],
     "language": "python",
     "metadata": {},
     "outputs": []
    },
    {
     "cell_type": "markdown",
     "metadata": {},
     "source": [
      "### Covering Grids\n",
      "\n",
      "If we want to access a 3D array of data that spans multiple resolutions in our simulation, we can use a covering grid.  This will return a 3D array of data, drawing from up to the resolution level specified when creating the data.  For example, if you create a covering grid that spans two child grids of a single parent grid, it will fill those zones covered by a zone of a child grid with the data from that child grid.  Where it is covered only by the parent grid, the cells from the parent grid will be duplicated (appropriately) to fill the covering grid.\n",
      "\n",
      "There are two different types of covering grids: unsmoothed and smoothed.  Smoothed grids will be filled through a cascading interpolation process; they will be filled at level 0, interpolated to level 1, filled at level 1, interpolated to level 2, filled at level 2, etc.  This will help to reduce edge effects.  Unsmoothed covering grids will not be interpolated, but rather values will be duplicated multiple times.\n",
      "\n",
      "Here we create an unsmoothed covering grid at level 2, with the left edge at `[0.0, 0.0, 0.0]` and with dimensions equal to those that would cover the entire domain at level 2.  We can then ask for the Density field, which will be a 3D array."
     ]
    },
    {
     "cell_type": "code",
     "collapsed": false,
     "input": [
      "cg = pf.h.covering_grid(2, [0.0, 0.0, 0.0], pf.domain_dimensions * 2**2)\n",
      "print cg[\"density\"].shape"
     ],
     "language": "python",
     "metadata": {},
     "outputs": []
    },
    {
     "cell_type": "markdown",
     "metadata": {},
     "source": [
      "In this example, we do exactly the same thing: except we ask for a *smoothed* covering grid, which will reduce edge effects."
     ]
    },
    {
     "cell_type": "code",
     "collapsed": false,
     "input": [
      "scg = pf.h.smoothed_covering_grid(2, [0.0, 0.0, 0.0], pf.domain_dimensions * 2**2)\n",
      "print scg[\"density\"].shape"
     ],
     "language": "python",
     "metadata": {},
     "outputs": []
    }
   ],
   "metadata": {}
  }
 ]
}