{
 "metadata": {
  "name": ""
 },
 "nbformat": 3,
 "nbformat_minor": 0,
 "worksheets": [
  {
   "cells": [
    {
     "cell_type": "markdown",
     "metadata": {},
     "source": [
      "# A Brief Demo of Volume Rendering\n",
      "\n",
      "This shows a small amount of volume rendering.  Really, just enough to get your feet wet!"
     ]
    },
    {
     "cell_type": "code",
     "collapsed": false,
     "input": [
      "from yt.imods import *\n",
      "pf = load(\"IsolatedGalaxy/galaxy0030/galaxy0030\")"
     ],
     "language": "python",
     "metadata": {},
     "outputs": []
    },
    {
     "cell_type": "markdown",
     "metadata": {},
     "source": [
      "To create a volume rendering, we need a camera and a transfer function.  We'll use the `ColorTransferFunction`, which accepts (in log space) the minimum and maximum bounds of our transfer function.  This means behavior for data outside these values is undefined.\n",
      "\n",
      "We then add on \"layers\" like an onion.  This function can accept a width (here specified) in data units, and also a color map.  Here we add on four layers.\n",
      "\n",
      "Finally, we create a camera.  The focal point is `[0.5, 0.5, 0.5]`, the width is 20 kpc (including front-to-back integration) and we specify a transfer function.  Once we've done that, we call `show` to actually cast our rays and display them inline."
     ]
    },
    {
     "cell_type": "code",
     "collapsed": false,
     "input": [
      "tf = ColorTransferFunction((-28, -24))\n",
      "tf.add_layers(4, w=0.01)\n",
      "cam = pf.h.camera([0.5, 0.5, 0.5], [1.0, 1.0, 1.0], 20.0/pf['kpc'], 512, tf)\n",
      "cam.show()"
     ],
     "language": "python",
     "metadata": {},
     "outputs": []
    },
    {
     "cell_type": "markdown",
     "metadata": {},
     "source": [
      "If we want to apply a clipping, we can specify the `clip_ratio`.  This will clip the upper bounds to this value times the `std()` of the image array."
     ]
    },
    {
     "cell_type": "code",
     "collapsed": false,
     "input": [
      "cam.show(clip_ratio=4)"
     ],
     "language": "python",
     "metadata": {},
     "outputs": []
    },
    {
     "cell_type": "markdown",
     "metadata": {},
     "source": [
      "There are several other options we can specify.  Note that here we have turned on the use of ghost zones, shortened the data interval for the transfer function, and widened our gaussian layers."
     ]
    },
    {
     "cell_type": "code",
     "collapsed": false,
     "input": [
      "tf = ColorTransferFunction((-28, -25))\n",
      "tf.add_layers(4, w=0.03)\n",
      "cam = pf.h.camera([0.5, 0.5, 0.5], [1.0, 1.0, 1.0], 20.0/pf['kpc'], 512, tf, no_ghost=False)\n",
      "cam.show(clip_ratio=4.0)"
     ],
     "language": "python",
     "metadata": {},
     "outputs": []
    }
   ],
   "metadata": {}
  }
 ]
}