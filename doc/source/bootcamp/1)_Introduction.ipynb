{
 "metadata": {
  "name": ""
 },
 "nbformat": 3,
 "nbformat_minor": 0,
 "worksheets": [
  {
   "cells": [
    {
     "cell_type": "markdown",
     "metadata": {},
     "source": [
      "# Welcome to the yt bootcamp!\n",
      "\n",
      "In this brief tutorial, we'll go over how to load up data, analyze things, inspect your data, and make some visualizations.\n",
      "\n",
      "Our documentation page can provide information on a variety of the commands that are used here, both in narrative documentation as well as recipes for specific functionality in our cookbook.  The documentation exists at http://yt-project.org/doc/.  If you encounter problems, look for help here: http://yt-project.org/doc/help/index.html.\n",
      "\n",
      "## Acquiring the datasets for this tutorial\n",
      "\n",
      "If you are executing these tutorials interactively, you need some sample datasets on which to run the code.  You can download these datasets at http://yt-project.org/data/.  The datasets necessary for each lesson are noted next to the corresponding tutorial.\n",
      "\n",
      "## What's Next?\n",
      "\n",
      "The Notebooks are meant to be explored in this order:\n",
      "\n",
      "1. Introduction\n",
      "2. Data Inspection (IsolatedGalaxy dataset)\n",
      "3. Simple Visualization (enzo_tiny_cosmology & Enzo_64 datasets)\n",
      "4. Data Objects and Time Series (IsolatedGalaxy dataset)\n",
      "5. Derived Fields and Profiles (IsolatedGalaxy dataset)\n",
      "6. Volume Rendering (IsolatedGalaxy dataset)"
     ]
    }
   ],
   "metadata": {}
  }
 ]
}
