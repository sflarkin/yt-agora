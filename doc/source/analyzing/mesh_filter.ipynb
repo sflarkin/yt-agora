{
 "metadata": {
  "kernelspec": {
   "codemirror_mode": {
    "name": "ipython",
    "version": 2
   },
   "display_name": "IPython (Python 2)",
   "language": "python",
   "name": "python2"
  },
  "name": "",
  "signature": "sha256:512c0d425416f92fcb8a4049f521b2960ed3b77873c7e8af73b16cf6e31ee266"
 },
 "nbformat": 3,
 "nbformat_minor": 0,
 "worksheets": [
  {
   "cells": [
    {
     "cell_type": "markdown",
     "metadata": {},
     "source": [
      "Let us demonstrate this with an example using the same dataset as we used with the boolean masks."
     ]
    },
    {
     "cell_type": "code",
     "collapsed": false,
     "input": [
      "import yt\n",
      "ds = yt.load(\"Enzo_64/DD0042/data0042\")"
     ],
     "language": "python",
     "metadata": {},
     "outputs": []
    },
    {
     "cell_type": "markdown",
     "metadata": {},
     "source": [
      "The only argument to a cut region is a conditional on field output from a data object.  The only catch is that you *must* denote the data object in the conditional as \"obj\" regardless of the actual object's name.  \n",
      "\n",
      "Here we create three new data objects which are copies of the all_data object (a region object covering the entire spatial domain of the simulation), but we've filtered on just \"hot\" material, the \"dense\" material, and the \"overpressure and fast\" material."
     ]
    },
    {
     "cell_type": "code",
     "collapsed": false,
     "input": [
      "ad = ds.all_data()\n",
      "hot_ad = ad.cut_region([\"obj['temperature'] > 1e6\"])\n",
      "dense_ad = ad.cut_region(['obj[\"density\"] > 5e-30'])\n",
      "overpressure_and_fast_ad = ad.cut_region(['(obj[\"pressure\"] > 1e-14) & (obj[\"velocity_magnitude\"].in_units(\"km/s\") > 1e2)'])"
     ],
     "language": "python",
     "metadata": {},
     "outputs": []
    },
    {
     "cell_type": "markdown",
     "metadata": {},
     "source": [
      "Upon inspection of our \"hot_ad\" object, we can still get the same results as we got with the boolean masks example above:"
     ]
    },
    {
     "cell_type": "code",
     "collapsed": false,
     "input": [
      "print 'Temperature of all data: ad[\"temperature\"] = \\n%s' % ad[\"temperature\"] \n",
      "print 'Temperature of \"hot\" data: hot_ad[\"temperature\"] = \\n%s' % hot_ad['temperature']"
     ],
     "language": "python",
     "metadata": {},
     "outputs": []
    },
    {
     "cell_type": "markdown",
     "metadata": {},
     "source": [
      "However, now we can use this cut_region object as a data source in generated Projections or Profiles or any other number of tasks.  Let's look at a density projection of the densest material, or the material which is overpressure and hot.\n",
      "\n",
      "We can visualize this material using the `data_source` keyword argument to the initializers of yt's plotting classes."
     ]
    },
    {
     "cell_type": "code",
     "collapsed": false,
     "input": [
      "proj = yt.ProjectionPlot(ds, 'x', \"density\", weight_field=\"density\")\n",
      "proj.annotate_title('All Data, No Cuts')\n",
      "proj.show()"
     ],
     "language": "python",
     "metadata": {},
     "outputs": []
    },
    {
     "cell_type": "code",
     "collapsed": false,
     "input": [
      "proj = yt.ProjectionPlot(ds, 'x', \"density\", weight_field=\"density\", data_source=dense_ad)\n",
      "proj.annotate_title('Dense Material')\n",
      "proj.set_zlim(\"density\", 3e-31, 3e-27)\n",
      "proj.show()"
     ],
     "language": "python",
     "metadata": {},
     "outputs": []
    },
    {
     "cell_type": "code",
     "collapsed": false,
     "input": [
      "proj = yt.ProjectionPlot(ds, 'x', \"density\", weight_field=\"density\", data_source=overpressure_and_fast_ad)\n",
      "proj.annotate_title('Overpressured and Fast Material')\n",
      "proj.set_zlim(\"density\", 3e-31, 3e-27)\n",
      "proj.show()"
     ],
     "language": "python",
     "metadata": {},
     "outputs": []
    },
    {
     "cell_type": "markdown",
     "metadata": {},
     "source": [
      "The `data_source` keyword argument is also accepted by `SlicePlot` and `PhasePlot`:"
     ]
    },
    {
     "cell_type": "code",
     "collapsed": false,
     "input": [
      "slc = yt.SlicePlot(ds, 'x', \"density\")\n",
      "slc.set_zlim('density', 3e-31, 3e-27)\n",
      "slc.annotate_title('No Cuts')\n",
      "slc.show()"
     ],
     "language": "python",
     "metadata": {},
     "outputs": []
    },
    {
     "cell_type": "code",
     "collapsed": false,
     "input": [
      "slc = yt.SlicePlot(ds, 'x', \"density\", data_source=dense_ad)\n",
      "slc.set_zlim('density', 3e-31, 1e-27)\n",
      "slc.annotate_title('Dense Material')\n",
      "slc.show()"
     ],
     "language": "python",
     "metadata": {},
     "outputs": []
    },
    {
     "cell_type": "code",
     "collapsed": false,
     "input": [
      "ph = yt.PhasePlot(ad, 'density', 'temperature', 'cell_mass', weight_field=None)\n",
      "ph.set_xlim(3e-31, 3e-27)\n",
      "ph.set_title('cell_mass', 'No Cuts')\n",
      "ph.show()"
     ],
     "language": "python",
     "metadata": {},
     "outputs": []
    },
    {
     "cell_type": "code",
     "collapsed": false,
     "input": [
      "ph = yt.PhasePlot(dense_ad, 'density', 'temperature', 'cell_mass', weight_field=None)\n",
      "ph.set_xlim(3e-31, 3e-27)\n",
      "ph.set_title('cell_mass', 'Dense material')\n",
      "ph.show()"
     ],
     "language": "python",
     "metadata": {},
     "outputs": []
    }
   ],
   "metadata": {}
  }
 ]
}