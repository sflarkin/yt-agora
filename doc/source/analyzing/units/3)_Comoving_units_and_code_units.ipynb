{
 "metadata": {
  "name": "",
  "signature": "sha256:a07224c25b1d938bc1014b6d9d09c1a2392912f21b821b07615e65302677ef9b"
 },
 "nbformat": 3,
 "nbformat_minor": 0,
 "worksheets": [
  {
   "cells": [
    {
     "cell_type": "markdown",
     "metadata": {},
     "source": [
      "In `yt` 3.0, we want to make it easier to access \"raw\" simulation data that a code writes directly to disk. The new unit system makes it much simpler to convert back and forth between phsical coordinates and the unscaled \"raw\" coordinate system used internally in the simulation code.  In some cases, this conversion involves transforming to comoving coordinates, so that is also covered here."
     ]
    },
    {
     "cell_type": "heading",
     "level": 3,
     "metadata": {},
     "source": [
      "The unit registry"
     ]
    },
    {
     "cell_type": "markdown",
     "metadata": {},
     "source": [
      "When a dataset is loaded, we attempt to detect and assign conversion factors from the internal simulation coordinate system and the physical CGS system.  These conversion factors are stored in a `unit_registry` along with conversion factors to the other known unit symbols:"
     ]
    },
    {
     "cell_type": "code",
     "collapsed": false,
     "input": [
      "from yt.mods import *\n",
      "\n",
      "ds = load('Enzo_64/DD0043/data0043')\n",
      "\n",
      "ds.unit_registry"
     ],
     "language": "python",
     "metadata": {},
     "outputs": []
    },
    {
     "cell_type": "code",
     "collapsed": false,
     "input": [
      "ds.unit_registry.lut"
     ],
     "language": "python",
     "metadata": {},
     "outputs": []
    },
    {
     "cell_type": "markdown",
     "metadata": {},
     "source": [
      "\n",
      "It is not necessary to specify a unit registry when creating a new `YTArray` or `YTQuantity` since `yt` ships with a default unit registry:"
     ]
    },
    {
     "cell_type": "code",
     "collapsed": false,
     "input": [
      "from yt.units.unit_object import default_unit_registry as reg\n",
      "\n",
      "unit_names = reg.lut.keys()\n",
      "unit_names.sort()\n",
      "\n",
      "# Print out the first 10 unit names\n",
      "for i in range(10):\n",
      "    print unit_names[i], reg.lut[unit_names[i]]"
     ],
     "language": "python",
     "metadata": {},
     "outputs": []
    },
    {
     "cell_type": "markdown",
     "metadata": {},
     "source": [
      "Each entry in the lookup table is the string name of a base unit and a tuple containing the CGS conversion factor and dimensions of the unit symbol."
     ]
    },
    {
     "cell_type": "heading",
     "level": 3,
     "metadata": {},
     "source": [
      "Code units"
     ]
    },
    {
     "cell_type": "markdown",
     "metadata": {},
     "source": [
      "Some of the most interesting unit symbols are the ones for \"code\" units:"
     ]
    },
    {
     "cell_type": "code",
     "collapsed": false,
     "input": [
      "code_unit_names = [un for un in unit_names if 'code_' in un]\n",
      "\n",
      "print code_unit_names"
     ],
     "language": "python",
     "metadata": {},
     "outputs": []
    },
    {
     "cell_type": "markdown",
     "metadata": {},
     "source": [
      "Let's take a look at a cosmological enzo dataset to play with converting between physical units and code units:"
     ]
    },
    {
     "cell_type": "code",
     "collapsed": false,
     "input": [
      "from yt.mods import *\n",
      "ds = load('Enzo_64/DD0043/data0043')"
     ],
     "language": "python",
     "metadata": {},
     "outputs": []
    },
    {
     "cell_type": "code",
     "collapsed": false,
     "input": [
      "reg = ds.unit_registry\n",
      "\n",
      "for un in code_unit_names:\n",
      "    print un, reg.lut[un]"
     ],
     "language": "python",
     "metadata": {},
     "outputs": []
    },
    {
     "cell_type": "markdown",
     "metadata": {},
     "source": [
      "Most of the time you will not have to deal with the unit registry.  For example, the conversion factors to code units are stored as attributes of the dataset object:"
     ]
    },
    {
     "cell_type": "code",
     "collapsed": false,
     "input": [
      "print \"Length unit: \", ds.length_unit\n",
      "print \"Time unit: \", ds.time_unit\n",
      "print \"Mass unit: \", ds.mass_unit\n",
      "print \"Velocity unit: \", ds.velocity_unit"
     ],
     "language": "python",
     "metadata": {},
     "outputs": []
    },
    {
     "cell_type": "markdown",
     "metadata": {},
     "source": [
      "Conversion factors will be supplied in CGS by default.  We can also ask what the conversion factors are in code units."
     ]
    },
    {
     "cell_type": "code",
     "collapsed": false,
     "input": [
      "print \"Length unit: \", ds.length_unit.in_units('code_length')\n",
      "print \"Time unit: \", ds.time_unit.in_units('code_time')\n",
      "print \"Mass unit: \", ds.mass_unit.in_units('code_mass')\n",
      "print \"Velocity unit: \", ds.velocity_unit.in_units('code_velocity')"
     ],
     "language": "python",
     "metadata": {},
     "outputs": []
    },
    {
     "cell_type": "markdown",
     "metadata": {},
     "source": [
      "as expected, all the conversion factors are unity in code units."
     ]
    },
    {
     "cell_type": "markdown",
     "metadata": {},
     "source": [
      "We can also play with unit conversions on `ds.domain_width`.  First, we see for enzo how code length units are defined relative to the domain width:"
     ]
    },
    {
     "cell_type": "code",
     "collapsed": false,
     "input": [
      "ds.domain_width"
     ],
     "language": "python",
     "metadata": {},
     "outputs": []
    },
    {
     "cell_type": "code",
     "collapsed": false,
     "input": [
      "ds.domain_width.in_cgs()"
     ],
     "language": "python",
     "metadata": {},
     "outputs": []
    },
    {
     "cell_type": "code",
     "collapsed": false,
     "input": [
      "ds.domain_width.in_units('Mpccm/h')"
     ],
     "language": "python",
     "metadata": {},
     "outputs": []
    },
    {
     "cell_type": "heading",
     "level": 3,
     "metadata": {},
     "source": [
      "Comoving units"
     ]
    },
    {
     "cell_type": "markdown",
     "metadata": {},
     "source": [
      "This last example uses a cosmological unit.  In english, I asked for the domain width in comoving megaparsecs, scaled as if the hubble constant were 100 km/s/Mpc.  Although $h$ isn't really a unit, yt treats it as one for the purposes of the unit system.  \n",
      "\n",
      "As an aside, Darren Croton's [research note](http://arxiv.org/abs/1308.4150) on the history, use, and interpretation of $h$ as it appears in the astronomical literature is pretty much required reading for anyone who has to deal with factors of $h$ every now and then.\n",
      "\n",
      "In `yt`, comoving length unit symbols are named following the pattern \u201c(length symbol)cm\u201d, i.e. `pccm` for comoving parsec or `mcm` for a comoving meter.  A comoving length unit is different from the normal length unit by a factor of $(1+z)$:"
     ]
    },
    {
     "cell_type": "code",
     "collapsed": false,
     "input": [
      "z = ds.current_redshift\n",
      " \n",
      "print ds.quan(1, 'Mpc')/ds.quan(1, 'Mpccm')\n",
      "print (1+z)"
     ],
     "language": "python",
     "metadata": {},
     "outputs": []
    },
    {
     "cell_type": "markdown",
     "metadata": {},
     "source": [
      "As we saw before, $h$ is treated like any other unit symbol. It has `dimensionless` units, just like a scalar:"
     ]
    },
    {
     "cell_type": "code",
     "collapsed": false,
     "input": [
      "print ds.quan(1, 'Mpc')/ds.quan(1, 'Mpc/h')\n",
      "print ds.hubble_constant"
     ],
     "language": "python",
     "metadata": {},
     "outputs": []
    },
    {
     "cell_type": "markdown",
     "metadata": {},
     "source": [
      "These units can be used in readily used in plots and anywhere a length unit is appropriate in `yt`."
     ]
    },
    {
     "cell_type": "code",
     "collapsed": false,
     "input": [
      "slc = SlicePlot(ds, 0, 'density', width=(128, 'Mpccm/h'))\n",
      "slc.set_figure_size(6)"
     ],
     "language": "python",
     "metadata": {},
     "outputs": []
    }
   ],
   "metadata": {}
  }
 ]
}