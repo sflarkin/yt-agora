{
 "metadata": {
  "name": "",
  "signature": "sha256:2d88f5fb494c00df08117dfae8184efdce91866616db8e38614cf1c2f44370ad"
 },
 "nbformat": 3,
 "nbformat_minor": 0,
 "worksheets": [
  {
   "cells": [
    {
     "cell_type": "markdown",
     "metadata": {},
     "source": [
      "In yt 3.0, we want to make it easier to access \"raw\" simulation data that a code writes directly to disk. The new unit system makes it much simpler to convert back and forth between phsical coordinates and the unscaled \"raw\" coordinate system used internally in the simulation code.  In some cases, this conversion involves transforming to comoving coordinates, so that is also covered here."
     ]
    },
    {
     "cell_type": "heading",
     "level": 3,
     "metadata": {},
     "source": [
      "Code units"
     ]
    },
    {
     "cell_type": "markdown",
     "metadata": {},
     "source": [
      "Let's take a look at a cosmological enzo dataset to play with converting between physical units and code units:"
     ]
    },
    {
     "cell_type": "code",
     "collapsed": false,
     "input": [
      "import yt\n",
      "ds = yt.load('Enzo_64/DD0043/data0043')"
     ],
     "language": "python",
     "metadata": {},
     "outputs": []
    },
    {
     "cell_type": "markdown",
     "metadata": {},
     "source": [
      "The conversion factors between Enzo's internal unit system and the physical CGS system are stored in the dataset's `unit_registry` object.  Code units have names like `code_length` and `code_time`. Let's take a look at the names of all of the code units, along with their CGS conversion factors for this cosmological enzo dataset:"
     ]
    },
    {
     "cell_type": "code",
     "collapsed": false,
     "input": [
      "reg = ds.unit_registry\n",
      "\n",
      "for un in reg.keys():\n",
      "    if un.startswith('code_'):\n",
      "        fmt_tup = (un, reg.lut[un][0], reg.lut[un][1])\n",
      "        print \"Unit name:      {:<15}\\nCGS conversion: {:<15}\\nDimensions:     {:<15}\\n\".format(*fmt_tup)"
     ],
     "language": "python",
     "metadata": {},
     "outputs": []
    },
    {
     "cell_type": "markdown",
     "metadata": {},
     "source": [
      "Most of the time you will not have to deal with the unit registry.  For example, the conversion factors to code units are stored as attributes of the dataset object:"
     ]
    },
    {
     "cell_type": "code",
     "collapsed": false,
     "input": [
      "print \"Length unit: \", ds.length_unit\n",
      "print \"Time unit: \", ds.time_unit\n",
      "print \"Mass unit: \", ds.mass_unit\n",
      "print \"Velocity unit: \", ds.velocity_unit"
     ],
     "language": "python",
     "metadata": {},
     "outputs": []
    },
    {
     "cell_type": "markdown",
     "metadata": {},
     "source": [
      "Conversion factors will be supplied in CGS by default.  We can also ask what the conversion factors are in code units."
     ]
    },
    {
     "cell_type": "code",
     "collapsed": false,
     "input": [
      "print \"Length unit: \", ds.length_unit.in_units('code_length')\n",
      "print \"Time unit: \", ds.time_unit.in_units('code_time')\n",
      "print \"Mass unit: \", ds.mass_unit.in_units('code_mass')\n",
      "print \"Velocity unit: \", ds.velocity_unit.in_units('code_velocity')"
     ],
     "language": "python",
     "metadata": {},
     "outputs": []
    },
    {
     "cell_type": "markdown",
     "metadata": {},
     "source": [
      "as expected, all the conversion factors are unity in code units."
     ]
    },
    {
     "cell_type": "markdown",
     "metadata": {},
     "source": [
      "We can also play with unit conversions on `ds.domain_width`.  First, we see for enzo how code length units are defined relative to the domain width:"
     ]
    },
    {
     "cell_type": "code",
     "collapsed": false,
     "input": [
      "ds.domain_width"
     ],
     "language": "python",
     "metadata": {},
     "outputs": []
    },
    {
     "cell_type": "code",
     "collapsed": false,
     "input": [
      "ds.domain_width.in_cgs()"
     ],
     "language": "python",
     "metadata": {},
     "outputs": []
    },
    {
     "cell_type": "code",
     "collapsed": false,
     "input": [
      "ds.domain_width.in_units('Mpccm/h')"
     ],
     "language": "python",
     "metadata": {},
     "outputs": []
    },
    {
     "cell_type": "heading",
     "level": 3,
     "metadata": {},
     "source": [
      "Comoving units"
     ]
    },
    {
     "cell_type": "markdown",
     "metadata": {},
     "source": [
      "This last example uses a cosmological unit.  In english, I asked for the domain width in comoving megaparsecs, scaled as if the hubble constant were 100 km/s/Mpc.  Although $h$ isn't really a unit, yt treats it as one for the purposes of the unit system.  \n",
      "\n",
      "As an aside, Darren Croton's [research note](http://arxiv.org/abs/1308.4150) on the history, use, and interpretation of $h$ as it appears in the astronomical literature is pretty much required reading for anyone who has to deal with factors of $h$ every now and then.\n",
      "\n",
      "In yt, comoving length unit symbols are named following the pattern \u201c(length symbol)cm\u201d, i.e. `pccm` for comoving parsec or `mcm` for a comoving meter.  A comoving length unit is different from the normal length unit by a factor of $(1+z)$:"
     ]
    },
    {
     "cell_type": "code",
     "collapsed": false,
     "input": [
      "z = ds.current_redshift\n",
      " \n",
      "print ds.quan(1, 'Mpc')/ds.quan(1, 'Mpccm')\n",
      "print (1+z)"
     ],
     "language": "python",
     "metadata": {},
     "outputs": []
    },
    {
     "cell_type": "markdown",
     "metadata": {},
     "source": [
      "As we saw before, $h$ is treated like any other unit symbol. It has `dimensionless` units, just like a scalar:"
     ]
    },
    {
     "cell_type": "code",
     "collapsed": false,
     "input": [
      "print ds.quan(1, 'Mpc')/ds.quan(1, 'Mpc/h')\n",
      "print ds.hubble_constant"
     ],
     "language": "python",
     "metadata": {},
     "outputs": []
    },
    {
     "cell_type": "markdown",
     "metadata": {},
     "source": [
      "These units can be used in readily used in plots and anywhere a length unit is appropriate in yt."
     ]
    },
    {
     "cell_type": "code",
     "collapsed": false,
     "input": [
      "slc = yt.SlicePlot(ds, 0, 'density', width=(128, 'Mpccm/h'))\n",
      "slc.set_figure_size(6)"
     ],
     "language": "python",
     "metadata": {},
     "outputs": []
    },
    {
     "cell_type": "heading",
     "level": 3,
     "metadata": {},
     "source": [
      "The unit registry"
     ]
    },
    {
     "cell_type": "markdown",
     "metadata": {},
     "source": [
      "When you create a `YTArray` without referring to a unit registry, yt uses the default unit registry, which does not include code units or comoving units."
     ]
    },
    {
     "cell_type": "code",
     "collapsed": false,
     "input": [
      "from yt import YTQuantity\n",
      "\n",
      "a = YTQuantity(3, 'cm')\n",
      "\n",
      "print a.units.registry.keys()"
     ],
     "language": "python",
     "metadata": {},
     "outputs": []
    },
    {
     "cell_type": "markdown",
     "metadata": {},
     "source": [
      "When a dataset is loaded, yt infers conversion factors from the internal simulation unit system to the CGS unit system.  These conversion factors are stored in a `unit_registry` along with conversion factors to the other known unit symbols.  For the cosmological Enzo dataset we loaded earlier, we can see there are a number of additional unit symbols not defined in the default unit lookup table:"
     ]
    },
    {
     "cell_type": "code",
     "collapsed": false,
     "input": [
      "print sorted([k for k in ds.unit_registry.keys() if k not in a.units.registry.keys()])"
     ],
     "language": "python",
     "metadata": {},
     "outputs": []
    },
    {
     "cell_type": "markdown",
     "metadata": {},
     "source": [
      "Since code units do not appear in the default unit symbol lookup table, one must explicitly refer to a unit registry when creating a `YTArray` to be able to convert to the unit system of a simulation."
     ]
    },
    {
     "cell_type": "markdown",
     "metadata": {},
     "source": [
      "To make this as clean as possible, there are array and quantity-creating convenience functions attached to the `Dataset` object:\n",
      "\n",
      "* `ds.arr()`\n",
      "* `ds.quan()`\n",
      "\n",
      "These functions make it straightforward to create arrays and quantities that can be converted to code units or comoving units.  For example:"
     ]
    },
    {
     "cell_type": "code",
     "collapsed": false,
     "input": [
      "a = ds.quan(3, 'code_length')\n",
      "\n",
      "print a\n",
      "print a.in_cgs()\n",
      "print a.in_units('Mpccm/h')"
     ],
     "language": "python",
     "metadata": {},
     "outputs": []
    },
    {
     "cell_type": "code",
     "collapsed": false,
     "input": [
      "b = ds.arr([3, 4, 5], 'Mpccm/h')\n",
      "print b\n",
      "print b.in_cgs()"
     ],
     "language": "python",
     "metadata": {},
     "outputs": []
    },
    {
     "cell_type": "heading",
     "level": 3,
     "metadata": {},
     "source": [
      "Overriding Code Unit Definitions"
     ]
    },
    {
     "cell_type": "markdown",
     "metadata": {},
     "source": [
      "On occasion, you might have a dataset for a supported frontend that does not have the conversions to code units accessible (for example, Athena data) or you may want to change them outright. `yt` provides a mechanism so that one may provide their own code unit definitions to `load`, which override the default rules for a given frontend for defining code units. This is provided through the `units_override` dictionary. We'll use an example of an Athena dataset. First, a call to `load` without `units_override`:"
     ]
    },
    {
     "cell_type": "code",
     "collapsed": false,
     "input": [
      "ds1 = yt.load(\"MHDSloshing/virgo_low_res.0054.vtk\")\n",
      "print ds1.length_unit\n",
      "print ds1.mass_unit\n",
      "print ds1.time_unit\n",
      "sp1 = ds1.sphere(\"c\",(0.1,\"unitary\"))\n",
      "print sp1[\"density\"]"
     ],
     "language": "python",
     "metadata": {},
     "outputs": []
    },
    {
     "cell_type": "markdown",
     "metadata": {},
     "source": [
      "This is a galaxy cluster dataset, so it is not likely that the units of density are correct. We happen to know that the unit definitions are different, so we can override the units:"
     ]
    },
    {
     "cell_type": "code",
     "collapsed": false,
     "input": [
      "units_override = {\"length_unit\":(1.0,\"Mpc\"),\n",
      "                  \"time_unit\":(1.0,\"Myr\"),\n",
      "                  \"mass_unit\":(1.0e14,\"Msun\")}\n",
      "ds2 = yt.load(\"MHDSloshing/virgo_low_res.0054.vtk\", units_override=units_override)\n",
      "print ds2.length_unit\n",
      "print ds2.mass_unit\n",
      "print ds2.time_unit\n",
      "sp2 = ds2.sphere(\"c\",(0.1,\"unitary\"))\n",
      "print sp2[\"density\"]"
     ],
     "language": "python",
     "metadata": {},
     "outputs": []
    },
    {
     "cell_type": "markdown",
     "metadata": {},
     "source": [
      "This option should be used very carefully, and *only* if you know that the dataset does not provide units or that the unit definitions generated are incorrect for some reason. "
     ]
    }
   ],
   "metadata": {}
  }
 ]
}