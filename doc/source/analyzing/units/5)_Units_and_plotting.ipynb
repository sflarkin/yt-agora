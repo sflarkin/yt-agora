{
 "metadata": {
  "name": "",
  "signature": "sha256:981baca6958c75f0d84bbc24be7d2b75af5957d36aa3eb4ba725d9e47a85f80d"
 },
 "nbformat": 3,
 "nbformat_minor": 0,
 "worksheets": [
  {
   "cells": [
    {
     "cell_type": "markdown",
     "metadata": {},
     "source": [
      "It's now easy to adjust the units of a field you are plotting.\n",
      "\n",
      "> Note: the following examples use `SlicePlot`, but the same thing should work for `ProjectionPlot`, `OffAxisSlicePlot`, and `OffAxisProjectionPlot`."
     ]
    },
    {
     "cell_type": "markdown",
     "metadata": {},
     "source": [
      "First, let's create a new `SlicePlot`."
     ]
    },
    {
     "cell_type": "code",
     "collapsed": false,
     "input": [
      "from yt.mods import *\n",
      "ds = load('IsolatedGalaxy/galaxy0030/galaxy0030')\n",
      "slc = SlicePlot(ds, 2, 'density', center=[0.5, 0.5, 0.5], width=(15, 'kpc'))\n",
      "slc.set_figure_size(6)"
     ],
     "language": "python",
     "metadata": {},
     "outputs": []
    },
    {
     "cell_type": "markdown",
     "metadata": {},
     "source": [
      "The units used to scale the colorbar can be adjusted by calling the `set_unit` function that is attached to the plot object.  This example creates a plot of density in code units:"
     ]
    },
    {
     "cell_type": "code",
     "collapsed": false,
     "input": [
      "slc.set_unit('density', 'code_mass/code_length**3')"
     ],
     "language": "python",
     "metadata": {},
     "outputs": []
    },
    {
     "cell_type": "markdown",
     "metadata": {},
     "source": [
      "This example creates a plot of gas density in solar masses per cubic parsec:"
     ]
    },
    {
     "cell_type": "code",
     "collapsed": false,
     "input": [
      "slc.set_unit('density', 'Msun/pc**3')"
     ],
     "language": "python",
     "metadata": {},
     "outputs": []
    },
    {
     "cell_type": "markdown",
     "metadata": {},
     "source": [
      "The `set_unit` function will accept any unit string that is dimensionally equivalent to the plotted field.  If it is supplied a unit that is not dimensionally equivalent, it will raise an error:"
     ]
    },
    {
     "cell_type": "code",
     "collapsed": false,
     "input": [
      "from yt.utilities.exceptions import YTUnitConversionError\n",
      "\n",
      "try:\n",
      "    slc.set_unit('density', 'Msun')\n",
      "except YTUnitConversionError as e:\n",
      "    print e"
     ],
     "language": "python",
     "metadata": {},
     "outputs": []
    },
    {
     "cell_type": "markdown",
     "metadata": {},
     "source": [
      "Similarly, set_unit is defined for `ProfilePlot` and `PhasePlot` instances as well.\n",
      "\n",
      "To illustrate this point, let's first create a new `ProfilePlot`:"
     ]
    },
    {
     "cell_type": "code",
     "collapsed": false,
     "input": [
      "dd = ds.all_data()\n",
      "plot = ProfilePlot(dd, 'density', 'temperature', weight_field='cell_mass')\n",
      "plot.show()"
     ],
     "language": "python",
     "metadata": {},
     "outputs": []
    },
    {
     "cell_type": "markdown",
     "metadata": {},
     "source": [
      "And adjust the unit of the y-axis:"
     ]
    },
    {
     "cell_type": "code",
     "collapsed": false,
     "input": [
      "plot.set_unit('density', 'Msun/pc**3')"
     ],
     "language": "python",
     "metadata": {},
     "outputs": []
    },
    {
     "cell_type": "markdown",
     "metadata": {},
     "source": [
      "Similarly for PhasePlot:"
     ]
    },
    {
     "cell_type": "code",
     "collapsed": false,
     "input": [
      "plot = PhasePlot(dd, 'density', 'temperature', 'cell_mass')\n",
      "plot.set_figure_size(6)"
     ],
     "language": "python",
     "metadata": {},
     "outputs": []
    },
    {
     "cell_type": "code",
     "collapsed": false,
     "input": [
      "plot.set_unit('cell_mass', 'Msun')\n",
      "plot.set_unit('density', 'Msun/pc**3')"
     ],
     "language": "python",
     "metadata": {},
     "outputs": []
    }
   ],
   "metadata": {}
  }
 ]
}