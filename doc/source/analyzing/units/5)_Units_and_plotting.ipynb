{
 "metadata": {
  "name": "",
  "signature": "sha256:f22e2acb721ada2e47ad0736deb074ac1bb919b82021b387d8d5624a53889025"
 },
 "nbformat": 3,
 "nbformat_minor": 0,
 "worksheets": [
  {
   "cells": [
    {
     "cell_type": "markdown",
     "metadata": {},
     "source": [
      "It's now easy to adjust the units of a field you are plotting.\n",
      "\n",
      "> Note: the following examples use `SlicePlot`, but the same thing should work for `ProjectionPlot`, `OffAxisSlicePlot`, and `OffAxisProjectionPlot`."
     ]
    },
    {
     "cell_type": "markdown",
     "metadata": {},
     "source": [
      "First, let's create a new `SlicePlot`."
     ]
    },
    {
     "cell_type": "code",
     "collapsed": false,
     "input": [
      "cd ~/Downloads/"
     ],
     "language": "python",
     "metadata": {},
     "outputs": [
      {
       "output_type": "stream",
       "stream": "stdout",
       "text": [
        "/home/scopatz/Downloads\n"
       ]
      }
     ],
     "prompt_number": 1
    },
    {
     "cell_type": "code",
     "collapsed": false,
     "input": [
      "import yt"
     ],
     "language": "python",
     "metadata": {},
     "outputs": [],
     "prompt_number": 3
    },
    {
     "cell_type": "code",
     "collapsed": false,
     "input": [
      "from yt.mods import *\n",
      "ds = load('IsolatedGalaxy/galaxy0030/galaxy0030')\n",
      "slc = SlicePlot(ds, 2, 'density', center=[0.53, 0.53, 0.53], width=(15, 'kpc'))\n",
      "slc.set_figure_size(6)"
     ],
     "language": "python",
     "metadata": {},
     "outputs": [
      {
       "output_type": "stream",
       "stream": "stderr",
       "text": [
        "yt : [INFO     ] 2014-02-28 11:09:28,288 Parameters: current_time              = 0.00600002000283\n"
       ]
      },
      {
       "output_type": "stream",
       "stream": "stderr",
       "text": [
        "yt : [INFO     ] 2014-02-28 11:09:28,288 Parameters: domain_dimensions         = [32 32 32]\n"
       ]
      },
      {
       "output_type": "stream",
       "stream": "stderr",
       "text": [
        "yt : [INFO     ] 2014-02-28 11:09:28,291 Parameters: domain_left_edge          = [ 0.  0.  0.]\n"
       ]
      },
      {
       "output_type": "stream",
       "stream": "stderr",
       "text": [
        "yt : [INFO     ] 2014-02-28 11:09:28,294 Parameters: domain_right_edge         = [ 1.  1.  1.]\n"
       ]
      },
      {
       "output_type": "stream",
       "stream": "stderr",
       "text": [
        "yt : [INFO     ] 2014-02-28 11:09:28,295 Parameters: cosmological_simulation   = 0.0\n"
       ]
      },
      {
       "output_type": "stream",
       "stream": "stderr",
       "text": [
        "yt : [INFO     ] 2014-02-28 11:09:28,345 Gathering a field list (this may take a moment.)\n"
       ]
      },
      {
       "output_type": "stream",
       "stream": "stderr",
       "text": [
        "yt : [INFO     ] 2014-02-28 11:09:28,684 Loading field plugins.\n"
       ]
      },
      {
       "output_type": "stream",
       "stream": "stderr",
       "text": [
        "yt : [INFO     ] 2014-02-28 11:09:28,685 Loaded angular_momentum (6 new fields)\n"
       ]
      },
      {
       "output_type": "stream",
       "stream": "stderr",
       "text": [
        "yt : [INFO     ] 2014-02-28 11:09:28,686 Loaded astro (12 new fields)\n"
       ]
      },
      {
       "output_type": "stream",
       "stream": "stderr",
       "text": [
        "yt : [INFO     ] 2014-02-28 11:09:28,686 Loaded cosmology (17 new fields)\n"
       ]
      },
      {
       "output_type": "stream",
       "stream": "stderr",
       "text": [
        "yt : [INFO     ] 2014-02-28 11:09:28,687 Loaded fluid (52 new fields)\n"
       ]
      },
      {
       "output_type": "stream",
       "stream": "stderr",
       "text": [
        "yt : [INFO     ] 2014-02-28 11:09:28,688 Loaded fluid_vector (83 new fields)\n"
       ]
      },
      {
       "output_type": "stream",
       "stream": "stderr",
       "text": [
        "yt : [INFO     ] 2014-02-28 11:09:28,691 Loaded geometric (98 new fields)\n"
       ]
      },
      {
       "output_type": "stream",
       "stream": "stderr",
       "text": [
        "yt : [INFO     ] 2014-02-28 11:09:28,692 Loaded local (98 new fields)\n"
       ]
      },
      {
       "output_type": "stream",
       "stream": "stderr",
       "text": [
        "yt : [INFO     ] 2014-02-28 11:09:28,693 Loaded magnetic_field (104 new fields)\n"
       ]
      },
      {
       "output_type": "stream",
       "stream": "stderr",
       "text": [
        "yt : [INFO     ] 2014-02-28 11:09:30,296 xlim = 0.522501 0.537499\n"
       ]
      },
      {
       "output_type": "stream",
       "stream": "stderr",
       "text": [
        "yt : [INFO     ] 2014-02-28 11:09:30,297 ylim = 0.522501 0.537499\n"
       ]
      },
      {
       "output_type": "stream",
       "stream": "stderr",
       "text": [
        "yt : [INFO     ] 2014-02-28 11:09:30,298 Making a fixed resolution buffer of (('gas', 'density')) 800 by 800\n"
       ]
      },
      {
       "output_type": "stream",
       "stream": "stderr",
       "text": [
        "yt : [INFO     ] 2014-02-28 11:09:30,329 Making a fixed resolution buffer of (('enzo', 'Density')) 800 by 800\n"
       ]
      },
      {
       "output_type": "stream",
       "stream": "stderr",
       "text": [
        "yt : [INFO     ] 2014-02-28 11:09:30,346 xlim = 0.522501 0.537499\n"
       ]
      },
      {
       "output_type": "stream",
       "stream": "stderr",
       "text": [
        "yt : [INFO     ] 2014-02-28 11:09:30,346 ylim = 0.522501 0.537499\n"
       ]
      },
      {
       "output_type": "stream",
       "stream": "stderr",
       "text": [
        "yt : [INFO     ] 2014-02-28 11:09:30,349 Making a fixed resolution buffer of (('gas', 'density')) 800 by 800\n"
       ]
      },
      {
       "output_type": "stream",
       "stream": "stderr",
       "text": [
        "yt : [INFO     ] 2014-02-28 11:09:30,369 Making a fixed resolution buffer of (('enzo', 'Density')) 800 by 800\n"
       ]
      },
      {
       "output_type": "stream",
       "stream": "stderr",
       "text": [
        "yt : [INFO     ] 2014-02-28 11:09:30,388 Making a fixed resolution buffer of (('gas', 'density')) 800 by 800\n"
       ]
      },
      {
       "output_type": "stream",
       "stream": "stderr",
       "text": [
        "yt : [INFO     ] 2014-02-28 11:09:30,408 Making a fixed resolution buffer of (('enzo', 'Density')) 800 by 800\n"
       ]
      },
      {
       "html": [
        "<img src=\"data:image/png;base64,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\"><br>"
       ],
       "metadata": {},
       "output_type": "pyout",
       "prompt_number": 2,
       "text": [
        "<yt.visualization.plot_window.AxisAlignedSlicePlot at 0x3e7a310>"
       ]
      }
     ],
     "prompt_number": 2
    },
    {
     "cell_type": "code",
     "collapsed": false,
     "input": [
      "ds."
     ],
     "language": "python",
     "metadata": {},
     "outputs": []
    },
    {
     "cell_type": "code",
     "collapsed": false,
     "input": [
      "yt.__file__"
     ],
     "language": "python",
     "metadata": {},
     "outputs": [
      {
       "metadata": {},
       "output_type": "pyout",
       "prompt_number": 4,
       "text": [
        "'/home/scopatz/.local/lib/python2.7/site-packages/yt-3.0dev-py2.7-linux-x86_64.egg/yt/__init__.pyc'"
       ]
      }
     ],
     "prompt_number": 4
    },
    {
     "cell_type": "markdown",
     "metadata": {},
     "source": [
      "The units used to scale the colorbar can be adjusted by calling the `set_unit` function that is attached to the plot object.  This example creates a plot of density in code units:"
     ]
    },
    {
     "cell_type": "code",
     "collapsed": false,
     "input": [
      "slc.set_unit('density', 'code_mass/code_length**3')"
     ],
     "language": "python",
     "metadata": {},
     "outputs": []
    },
    {
     "cell_type": "markdown",
     "metadata": {},
     "source": [
      "This example creates a plot of gas density in solar masses per cubic parsec:"
     ]
    },
    {
     "cell_type": "code",
     "collapsed": false,
     "input": [
      "slc.set_unit('density', 'Msun/pc**3')"
     ],
     "language": "python",
     "metadata": {},
     "outputs": []
    },
    {
     "cell_type": "markdown",
     "metadata": {},
     "source": [
      "The `set_unit` function will accept any unit string that is dimensionally equivalent to the plotted field.  If it is supplied a unit that is not dimensionally equivalent, it will raise an error:"
     ]
    },
    {
     "cell_type": "code",
     "collapsed": false,
     "input": [
      "slc.set_unit('density', 'Msun')"
     ],
     "language": "python",
     "metadata": {},
     "outputs": []
    },
    {
     "cell_type": "markdown",
     "metadata": {},
     "source": [
      "Similarly, set_unit is defined for `ProfilePlot` and `PhasePlot` instances as well.\n",
      "\n",
      "To illustrate this point, let's first create a new `ProfilePlot`:"
     ]
    },
    {
     "cell_type": "code",
     "collapsed": false,
     "input": [
      "dd = ds.h.all_data()\n",
      "plot = ProfilePlot(dd, 'density', 'temperature', weight_field='cell_mass')\n",
      "plot.show()"
     ],
     "language": "python",
     "metadata": {},
     "outputs": []
    },
    {
     "cell_type": "markdown",
     "metadata": {},
     "source": [
      "And adjust the unit of the y-axis:"
     ]
    },
    {
     "cell_type": "code",
     "collapsed": false,
     "input": [
      "plot.set_unit('density', 'Msun/pc**3')"
     ],
     "language": "python",
     "metadata": {},
     "outputs": []
    },
    {
     "cell_type": "markdown",
     "metadata": {},
     "source": [
      "Similarly for PhasePlot:"
     ]
    },
    {
     "cell_type": "code",
     "collapsed": false,
     "input": [
      "plot = PhasePlot(dd, 'density', 'temperature', 'cell_mass')\n",
      "plot.set_figure_size(6)"
     ],
     "language": "python",
     "metadata": {},
     "outputs": []
    },
    {
     "cell_type": "code",
     "collapsed": false,
     "input": [
      "plot.set_unit('cell_mass', 'Msun')\n",
      "plot.set_unit('density', 'Msun/pc**3')"
     ],
     "language": "python",
     "metadata": {},
     "outputs": []
    }
   ],
   "metadata": {}
  }
 ]
}