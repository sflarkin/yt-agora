{
 "metadata": {
  "name": "",
  "signature": "sha256:1e75c69b70dcfd31489cb9e891de015e1dd7c892e7697b5d65553358af2ce7a3"
 },
 "nbformat": 3,
 "nbformat_minor": 0,
 "worksheets": [
  {
   "cells": [
    {
     "cell_type": "markdown",
     "metadata": {},
     "source": [
      "In the past, querying a data object with a field name returned a NumPy `ndarray` . In the new unit system, data object queries will return a `YTArray`, a subclass of `ndarray` that preserves all of the nice properties of `ndarray`, including broadcasting, deep and shallow copies, and views. "
     ]
    },
    {
     "cell_type": "heading",
     "level": 3,
     "metadata": {},
     "source": [
      "Selecting data from an object"
     ]
    },
    {
     "cell_type": "markdown",
     "metadata": {},
     "source": [
      "`YTArray` is 'unit-aware'.  Let's show how this works in practice using a sample Enzo dataset:"
     ]
    },
    {
     "cell_type": "code",
     "collapsed": false,
     "input": [
      "import yt\n",
      "ds = yt.load('IsolatedGalaxy/galaxy0030/galaxy0030')\n",
      "\n",
      "dd = ds.all_data()\n",
      "maxval, maxloc = ds.find_max('density')\n",
      "\n",
      "dens = dd['density']"
     ],
     "language": "python",
     "metadata": {},
     "outputs": []
    },
    {
     "cell_type": "code",
     "collapsed": false,
     "input": [
      "print maxval"
     ],
     "language": "python",
     "metadata": {},
     "outputs": []
    },
    {
     "cell_type": "code",
     "collapsed": false,
     "input": [
      "print dens"
     ],
     "language": "python",
     "metadata": {},
     "outputs": []
    },
    {
     "cell_type": "code",
     "collapsed": false,
     "input": [
      "mass = dd['cell_mass']\n",
      "\n",
      "print \"Cell Masses in CGS: \\n\", mass, \"\\n\"\n",
      "print \"Cell Masses in MKS: \\n\", mass.in_mks(), \"\\n\"\n",
      "print \"Cell Masses in Solar Masses: \\n\", mass.in_units('Msun'), \"\\n\"\n",
      "print \"Cell Masses in code units: \\n\", mass.in_units('code_mass'), \"\\n\""
     ],
     "language": "python",
     "metadata": {},
     "outputs": []
    },
    {
     "cell_type": "code",
     "collapsed": false,
     "input": [
      "dx = dd['dx']\n",
      "print \"Cell dx in code units: \\n\", dx, \"\\n\"\n",
      "print \"Cell dx in centimeters: \\n\", dx.in_cgs(), \"\\n\"\n",
      "print \"Cell dx in meters: \\n\", dx.in_units('m'), \"\\n\"\n",
      "print \"Cell dx in megaparsecs: \\n\", dx.in_units('Mpc'), \"\\n\""
     ],
     "language": "python",
     "metadata": {},
     "outputs": []
    },
    {
     "cell_type": "heading",
     "level": 3,
     "metadata": {},
     "source": [
      "Unit conversions"
     ]
    },
    {
     "cell_type": "markdown",
     "metadata": {},
     "source": [
      "YTArray defines several user-visible member functions that allow data to be converted from one unit system to another:\n",
      "\n",
      "* `in_units`\n",
      "* `in_cgs`\n",
      "* `in_mks`\n",
      "* `convert_to_units`\n",
      "* `convert_to_cgs`\n",
      "* `convert_to_mks`"
     ]
    },
    {
     "cell_type": "markdown",
     "metadata": {},
     "source": [
      "The first method, `in_units`, returns a copy of the array in the units denoted by a string argument:"
     ]
    },
    {
     "cell_type": "code",
     "collapsed": false,
     "input": [
      "print dd['density'].in_units('Msun/pc**3')"
     ],
     "language": "python",
     "metadata": {},
     "outputs": []
    },
    {
     "cell_type": "markdown",
     "metadata": {},
     "source": [
      "`in_cgs` and `in_mks` return a copy of the array converted CGS and MKS units, respectively:"
     ]
    },
    {
     "cell_type": "code",
     "collapsed": false,
     "input": [
      "print (dd['pressure'])\n",
      "print (dd['pressure']).in_cgs()\n",
      "print (dd['pressure']).in_mks()"
     ],
     "language": "python",
     "metadata": {},
     "outputs": []
    },
    {
     "cell_type": "markdown",
     "metadata": {},
     "source": [
      "The next two methods do in-place conversions:"
     ]
    },
    {
     "cell_type": "code",
     "collapsed": false,
     "input": [
      "dens = dd['density']\n",
      "print dens\n",
      "\n",
      "dens.convert_to_units('Msun/pc**3')\n",
      "print dens"
     ],
     "language": "python",
     "metadata": {},
     "outputs": []
    },
    {
     "cell_type": "markdown",
     "metadata": {},
     "source": [
      "One possibly confusing wrinkle when using in-place conversions is if you try to query `dd['density']` again, you'll find that it has been converted to solar masses per cubic parsec:"
     ]
    },
    {
     "cell_type": "code",
     "collapsed": false,
     "input": [
      "print dd['density']\n",
      "\n",
      "dens.convert_to_units('g/cm**3')\n",
      "\n",
      "print dens"
     ],
     "language": "python",
     "metadata": {},
     "outputs": []
    },
    {
     "cell_type": "markdown",
     "metadata": {},
     "source": [
      "Since the unit metadata is preserved and the array values are still correct in the new unit system, all numerical operations will still be correct.\n",
      "\n",
      "One of the nicest aspects of this new unit system is that the symbolic algebra for mathematical operations on data with units is performed automatically by sympy.  This example shows how we can construct a field with density units from two other fields that have units of mass and volume:"
     ]
    },
    {
     "cell_type": "code",
     "collapsed": false,
     "input": [
      "print dd['cell_mass']\n",
      "print dd['cell_volume'].in_units('cm**3')\n",
      "\n",
      "print (dd['cell_mass']/dd['cell_volume']).in_cgs()"
     ],
     "language": "python",
     "metadata": {},
     "outputs": []
    },
    {
     "cell_type": "heading",
     "level": 3,
     "metadata": {},
     "source": [
      "Electrostatic/Electromagnetic Units"
     ]
    },
    {
     "cell_type": "markdown",
     "metadata": {},
     "source": [
      "Electromagnetic units can be a bit tricky, because the units for such quantities in different unit systems can have entirely different dimensions, even if they are meant to represent the same physical quantities. For example, in the SI system of units, current in Amperes is a fundamental unit of measure, so the unit of charge \"coulomb\" is equal to one ampere-second. On the other hand, in the Gaussian/CGS system, there is no equivalent base electromagnetic unit, and the electrostatic charge unit \"esu\" is equal to one $\\mathrm{cm^{3/2}g^{-1/2}s^{-1}}$ (which does not have any apparent physical significance). `yt` recognizes this difference:"
     ]
    },
    {
     "cell_type": "code",
     "collapsed": false,
     "input": [
      "q1 = yt.YTArray(1.0,\"C\") # Coulombs\n",
      "q2 = yt.YTArray(1.0,\"esu\") # electrostatic units / statcoulomb\n",
      "\n",
      "print \"units =\", q1.in_mks().units, \", dims =\", q1.units.dimensions\n",
      "print \"units =\", q2.in_cgs().units, \", dims =\", q2.units.dimensions"
     ],
     "language": "python",
     "metadata": {},
     "outputs": []
    },
    {
     "cell_type": "markdown",
     "metadata": {},
     "source": [
      "Under the hood, the `yt` units system has a translation layer that converts between these two systems, without any further effort required. For example:"
     ]
    },
    {
     "cell_type": "code",
     "collapsed": false,
     "input": [
      "from yt.utilities.physical_constants import qp\n",
      "\n",
      "print qp\n",
      "qp_C = qp.in_units(\"C\")\n",
      "print qp_C"
     ],
     "language": "python",
     "metadata": {},
     "outputs": []
    },
    {
     "cell_type": "markdown",
     "metadata": {},
     "source": [
      "The electromagnetic unit translations `yt` understands are:\n",
      "\n",
      "* Charge: 1 coulomb (C) $\\leftrightarrow$ 0.1c electrostatic unit (esu, Fr)\n",
      "* Current: 1 ampere (A, C/s) $\\leftrightarrow$ 0.1c statampere (statA, esu/s, Fr) \n",
      "* Magnetic Field: 1 tesla (T) $\\leftrightarrow 10^4$ gauss (G)\n",
      "\n",
      "where \"Fr\" is the franklin, an alternative name for the electrostatic unit, and c is the speed of light. "
     ]
    },
    {
     "cell_type": "heading",
     "level": 3,
     "metadata": {},
     "source": [
      "Working with views and converting to ndarray"
     ]
    },
    {
     "cell_type": "markdown",
     "metadata": {},
     "source": [
      "There are two ways to convert the data into a numpy array.  The most straightforward and safe way to do this is to create a copy of the array data.  The following cell demonstrates four equivalent ways of doing this, in increasing degree of terseness."
     ]
    },
    {
     "cell_type": "code",
     "collapsed": false,
     "input": [
      "import numpy as np\n",
      "\n",
      "dens = dd['cell_mass']\n",
      "\n",
      "print dens.to_ndarray()\n",
      "print np.array(dens)\n",
      "print dens.value\n",
      "print dens.v"
     ],
     "language": "python",
     "metadata": {},
     "outputs": []
    },
    {
     "cell_type": "markdown",
     "metadata": {},
     "source": [
      "Since we have a copy of the data, we can mess with it however we wish without disturbing the original data returned by the yt data object."
     ]
    },
    {
     "cell_type": "markdown",
     "metadata": {},
     "source": [
      "Another way to touch the raw array data is to get a _view_.  A numpy view is a lightweight array interface to a memory buffer. There are four ways to create views of YTArray instances:"
     ]
    },
    {
     "cell_type": "code",
     "collapsed": false,
     "input": [
      "print dd['cell_mass'].ndarray_view()\n",
      "print dd['cell_mass'].view(np.ndarray)\n",
      "print dd['cell_mass'].ndview\n",
      "print dd['cell_mass'].d"
     ],
     "language": "python",
     "metadata": {},
     "outputs": []
    },
    {
     "cell_type": "markdown",
     "metadata": {},
     "source": [
      "When working with views, rememeber that you are touching the raw array data and no longer have any of the unit checking provided by the unit system.  This can be useful where it might be more straightforward to treat the array as if it didn't have units but without copying the data."
     ]
    },
    {
     "cell_type": "code",
     "collapsed": false,
     "input": [
      "density_values = dd['density'].d\n",
      "density_values[0:10] = 0\n",
      "\n",
      "# The original array was updated\n",
      "print dd['density']"
     ],
     "language": "python",
     "metadata": {},
     "outputs": []
    },
    {
     "cell_type": "heading",
     "level": 3,
     "metadata": {},
     "source": [
      "Unit Equivalencies"
     ]
    },
    {
     "cell_type": "markdown",
     "metadata": {},
     "source": [
      "Some physical quantities are directly related to other unitful quantities by a constant, but otherwise do not have the same units. To facilitate conversions between these quantities, `yt` implements a system of unit equivalencies (inspired by the [AstroPy implementation](http://docs.astropy.org/en/latest/units/equivalencies.html)). The possible unit equivalencies are:\n",
      "\n",
      "* `\"thermal\"`: conversions between temperature and energy ($E = k_BT$)\n",
      "* `\"spectral\"`: conversions between wavelength, frequency, and energy for photons ($E = h\\nu = hc/\\lambda, c = \\lambda\\nu$)\n",
      "* `\"mass_energy\"`: conversions between mass and energy ($E = mc^2$)\n",
      "* `\"sound_speed\"`: conversions between temperature and sound speed ($c_s^2 = \\gamma{k_BT}/\\mu{m_p}$)\n",
      "* `\"lorentz\"`: conversions between velocity and Lorentz factor ($\\gamma = 1/\\sqrt{1-(v/c)^2}$)"
     ]
    },
    {
     "cell_type": "markdown",
     "metadata": {},
     "source": [
      "A `YTArray` or `YTQuantity` can be converted to an equivalent using `to_equivalent`, where the unit and the equivalence name are provided as arguments:"
     ]
    },
    {
     "cell_type": "code",
     "collapsed": false,
     "input": [
      "print dd[\"temperature\"].to_equivalent(\"erg\", \"thermal\")\n",
      "print dd[\"temperature\"].to_equivalent(\"eV\", \"thermal\")\n",
      "\n",
      "# Rest energy of the proton\n",
      "from yt.utilities.physical_constants import mp\n",
      "E_p = mp.to_equivalent(\"GeV\", \"mass_energy\")\n",
      "print E_p"
     ],
     "language": "python",
     "metadata": {},
     "outputs": []
    },
    {
     "cell_type": "markdown",
     "metadata": {},
     "source": [
      "Equivalencies can go in both directions, without any information required other than the unit you want to convert to:"
     ]
    },
    {
     "cell_type": "code",
     "collapsed": false,
     "input": [
      "from yt.utilities.physical_constants import clight\n",
      "v = 0.1*clight\n",
      "g = v.to_equivalent(\"dimensionless\", \"lorentz\")\n",
      "print g\n",
      "print g.to_equivalent(\"c\", \"lorentz\")"
     ],
     "language": "python",
     "metadata": {},
     "outputs": []
    },
    {
     "cell_type": "markdown",
     "metadata": {},
     "source": [
      "Since the sound speed also depends on the ratio of specific heats $\\gamma$ and the mean molecular weight $\\mu$, these may be optionally supplied to the `to_equivalent` call (defaults are $\\gamma$ = 5/3, $\\mu = 0.6$):"
     ]
    },
    {
     "cell_type": "code",
     "collapsed": false,
     "input": [
      "print dd[\"temperature\"].to_equivalent(\"km/s\", \"sound_speed\", gamma=4./3., mu=0.5)"
     ],
     "language": "python",
     "metadata": {},
     "outputs": []
    },
    {
     "cell_type": "markdown",
     "metadata": {},
     "source": [
      "If a certain equivalence does not exist for a particular unit, then an error will be thrown:"
     ]
    },
    {
     "cell_type": "code",
     "collapsed": false,
     "input": [
      "from yt.utilities.exceptions import YTInvalidUnitEquivalence\n",
      "\n",
      "try:\n",
      "    x = v.to_equivalent(\"angstrom\", \"spectral\")\n",
      "except YTInvalidUnitEquivalence as e:\n",
      "    print e"
     ],
     "language": "python",
     "metadata": {},
     "outputs": []
    },
    {
     "cell_type": "markdown",
     "metadata": {},
     "source": [
      "To list the equivalencies available for a given `YTArray` or `YTQuantity`, use the `list_equivalencies` method:"
     ]
    },
    {
     "cell_type": "code",
     "collapsed": false,
     "input": [
      "E_p.list_equivalencies()"
     ],
     "language": "python",
     "metadata": {},
     "outputs": []
    },
    {
     "cell_type": "heading",
     "level": 3,
     "metadata": {},
     "source": [
      "Round-Trip Conversions to and from AstroPy's Units System"
     ]
    },
    {
     "cell_type": "markdown",
     "metadata": {},
     "source": [
      "Finally, a `YTArray` or `YTQuantity` may be converted to an [AstroPy quantity](http://astropy.readthedocs.org/en/latest/units/), which is a NumPy array or a scalar associated with units from AstroPy's units system. You may use this facility if you have AstroPy installed. "
     ]
    },
    {
     "cell_type": "markdown",
     "metadata": {},
     "source": [
      "Some examples of converting from AstroPy units to yt:"
     ]
    },
    {
     "cell_type": "code",
     "collapsed": false,
     "input": [
      "from astropy import units as u\n",
      "\n",
      "x = 42.0 * u.meter\n",
      "y = yt.YTQuantity.from_astropy(x) "
     ],
     "language": "python",
     "metadata": {},
     "outputs": []
    },
    {
     "cell_type": "code",
     "collapsed": false,
     "input": [
      "print x, type(x)\n",
      "print y, type(y)"
     ],
     "language": "python",
     "metadata": {},
     "outputs": []
    },
    {
     "cell_type": "code",
     "collapsed": false,
     "input": [
      "a = np.random.random(size=10) * u.km/u.s\n",
      "b = yt.YTArray.from_astropy(a)"
     ],
     "language": "python",
     "metadata": {},
     "outputs": []
    },
    {
     "cell_type": "code",
     "collapsed": false,
     "input": [
      "print a, type(a)\n",
      "print b, type(b)"
     ],
     "language": "python",
     "metadata": {},
     "outputs": []
    },
    {
     "cell_type": "markdown",
     "metadata": {},
     "source": [
      "It also works the other way around, converting a `YTArray` or `YTQuantity` to an AstroPy quantity via the method `to_astropy`. For arrays:"
     ]
    },
    {
     "cell_type": "code",
     "collapsed": false,
     "input": [
      "temp = dd[\"temperature\"]\n",
      "atemp = temp.to_astropy()"
     ],
     "language": "python",
     "metadata": {},
     "outputs": []
    },
    {
     "cell_type": "code",
     "collapsed": false,
     "input": [
      "print temp, type(temp)\n",
      "print atemp, type(atemp)"
     ],
     "language": "python",
     "metadata": {},
     "outputs": []
    },
    {
     "cell_type": "markdown",
     "metadata": {},
     "source": [
      "and quantities:"
     ]
    },
    {
     "cell_type": "code",
     "collapsed": false,
     "input": [
      "from yt.utilities.physical_constants import kboltz\n",
      "kb = kboltz.to_astropy()"
     ],
     "language": "python",
     "metadata": {},
     "outputs": []
    },
    {
     "cell_type": "code",
     "collapsed": false,
     "input": [
      "print kboltz, type(kboltz)\n",
      "print kb, type(kb)"
     ],
     "language": "python",
     "metadata": {},
     "outputs": []
    },
    {
     "cell_type": "markdown",
     "metadata": {},
     "source": [
      "As a sanity check, you can show that it works round-trip:"
     ]
    },
    {
     "cell_type": "code",
     "collapsed": false,
     "input": [
      "k1 = kboltz.to_astropy()\n",
      "k2 = yt.YTQuantity.from_astropy(kb)\n",
      "print k1 == k2"
     ],
     "language": "python",
     "metadata": {},
     "outputs": []
    },
    {
     "cell_type": "code",
     "collapsed": false,
     "input": [
      "c = yt.YTArray.from_astropy(a)\n",
      "d = c.to_astropy()\n",
      "print a == d"
     ],
     "language": "python",
     "metadata": {},
     "outputs": []
    }
   ],
   "metadata": {}
  }
 ]
}