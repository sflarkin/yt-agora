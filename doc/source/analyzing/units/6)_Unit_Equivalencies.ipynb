{
 "metadata": {
  "name": "",
  "signature": "sha256:540508ad9cef9e81722ee4a6d7ed148df117fde2467b22dcf856cb6a4c01b00f"
 },
 "nbformat": 3,
 "nbformat_minor": 0,
 "worksheets": [
  {
   "cells": [
    {
     "cell_type": "markdown",
     "metadata": {},
     "source": [
      "Some physical quantities are directly related to other unitful quantities by a constant, but otherwise do not have the same units. To facilitate conversions between these quantities, `yt` implements a system of unit equivalencies (inspired by the [AstroPy implementation](http://docs.astropy.org/en/latest/units/equivalencies.html)). The possible unit equivalencies are:\n",
      "\n",
      "* `\"thermal\"`: conversions between temperature and energy ($E = k_BT$)\n",
      "* `\"spectral\"`: conversions between wavelength, frequency, and energy for photons ($E = h\\nu = hc/\\lambda, c = \\lambda\\nu$)\n",
      "* `\"mass_energy\"`: conversions between mass and energy ($E = mc^2$)\n",
      "* `\"sound_speed\"`: conversions between temperature and sound speed for an ideal gas ($c_s^2 = \\gamma{k_BT}/\\mu{m_p}$)\n",
      "* `\"lorentz\"`: conversions between velocity and Lorentz factor ($\\gamma = 1/\\sqrt{1-(v/c)^2}$)\n",
      "* `\"schwarzschild\"`: conversions between mass and Schwarzschild radius ($R_S = 2GM/c^2$)\n",
      "* `\"compton\"`: conversions between mass and Compton wavelength ($\\lambda = h/mc$)\n",
      "\n",
      "A `YTArray` or `YTQuantity` can be converted to an equivalent using `to_equivalent`, where the unit and the equivalence name are provided as arguments:"
     ]
    },
    {
     "cell_type": "code",
     "collapsed": false,
     "input": [
      "import yt\n",
      "import numpy as np\n",
      "\n",
      "ds = yt.load('IsolatedGalaxy/galaxy0030/galaxy0030')\n",
      "\n",
      "dd = ds.all_data()\n",
      "\n",
      "print dd[\"temperature\"].to_equivalent(\"erg\", \"thermal\")\n",
      "print dd[\"temperature\"].to_equivalent(\"eV\", \"thermal\")\n",
      "\n",
      "# Rest energy of the proton\n",
      "from yt.utilities.physical_constants import mp\n",
      "E_p = mp.to_equivalent(\"GeV\", \"mass_energy\")\n",
      "print E_p"
     ],
     "language": "python",
     "metadata": {},
     "outputs": []
    },
    {
     "cell_type": "markdown",
     "metadata": {},
     "source": [
      "Equivalencies can go in both directions, without any information required other than the unit you want to convert to:"
     ]
    },
    {
     "cell_type": "code",
     "collapsed": false,
     "input": [
      "from yt.utilities.physical_constants import clight\n",
      "v = 0.1*clight\n",
      "g = v.to_equivalent(\"dimensionless\", \"lorentz\")\n",
      "print g\n",
      "print g.to_equivalent(\"c\", \"lorentz\")"
     ],
     "language": "python",
     "metadata": {},
     "outputs": []
    },
    {
     "cell_type": "markdown",
     "metadata": {},
     "source": [
      "Since the sound speed for an ideal gas also depends on the ratio of specific heats $\\gamma$ and the mean molecular weight $\\mu$, these may be optionally supplied to the `to_equivalent` call (defaults are $\\gamma$ = 5/3, $\\mu = 0.6$):"
     ]
    },
    {
     "cell_type": "code",
     "collapsed": false,
     "input": [
      "print dd[\"temperature\"].to_equivalent(\"km/s\", \"sound_speed\", gamma=4./3., mu=0.5)"
     ],
     "language": "python",
     "metadata": {},
     "outputs": []
    },
    {
     "cell_type": "markdown",
     "metadata": {},
     "source": [
      "If a certain equivalence does not exist for a particular unit, then an error will be thrown:"
     ]
    },
    {
     "cell_type": "code",
     "collapsed": false,
     "input": [
      "from yt.utilities.exceptions import YTInvalidUnitEquivalence\n",
      "\n",
      "try:\n",
      "    x = v.to_equivalent(\"angstrom\", \"spectral\")\n",
      "except YTInvalidUnitEquivalence as e:\n",
      "    print e"
     ],
     "language": "python",
     "metadata": {},
     "outputs": []
    },
    {
     "cell_type": "markdown",
     "metadata": {},
     "source": [
      "To list the equivalencies available for a given `YTArray` or `YTQuantity`, use the `list_equivalencies` method:"
     ]
    },
    {
     "cell_type": "code",
     "collapsed": false,
     "input": [
      "E_p.list_equivalencies()"
     ],
     "language": "python",
     "metadata": {},
     "outputs": []
    }
   ],
   "metadata": {}
  }
 ]
}