{
 "metadata": {
  "name": "",
  "signature": "sha256:b7541e0167001c6dd74306c8490385ace7bdb0533a829286f0505c0b24c67f16"
 },
 "nbformat": 3,
 "nbformat_minor": 0,
 "worksheets": [
  {
   "cells": [
    {
     "cell_type": "markdown",
     "metadata": {},
     "source": [
      "In the past, querying a data object with a field name returned a NumPy `ndarray` . In the new unit system, data object queries will return a `YTArray`, a subclass of `ndarray` that preserves all of the nice properties of `ndarray`, including broadcasting, deep and shallow copies, and views. "
     ]
    },
    {
     "cell_type": "heading",
     "level": 3,
     "metadata": {},
     "source": [
      "Selecting data from an object"
     ]
    },
    {
     "cell_type": "markdown",
     "metadata": {},
     "source": [
      "`YTArray` is 'unit-aware'.  Let's show how this works in practice using a sample Enzo dataset:"
     ]
    },
    {
     "cell_type": "code",
     "collapsed": false,
     "input": [
      "from yt.mods import *\n",
      "ds = load('IsolatedGalaxy/galaxy0030/galaxy0030')\n",
      "          \n",
      "dd = ds.all_data()\n",
      "maxval, maxloc = ds.find_max('density')\n",
      "\n",
      "dens = dd['density']"
     ],
     "language": "python",
     "metadata": {},
     "outputs": []
    },
    {
     "cell_type": "code",
     "collapsed": false,
     "input": [
      "print maxval"
     ],
     "language": "python",
     "metadata": {},
     "outputs": []
    },
    {
     "cell_type": "code",
     "collapsed": false,
     "input": [
      "print dens"
     ],
     "language": "python",
     "metadata": {},
     "outputs": []
    },
    {
     "cell_type": "code",
     "collapsed": false,
     "input": [
      "mass = dd['cell_mass']\n",
      "\n",
      "print \"Cell Masses in CGS: \\n\", mass, \"\\n\"\n",
      "print \"Cell Masses in MKS: \\n\", mass.in_mks(), \"\\n\"\n",
      "print \"Cell Masses in Solar Masses: \\n\", mass.in_units('Msun'), \"\\n\"\n",
      "print \"Cell Masses in code units: \\n\", mass.in_units('code_mass'), \"\\n\""
     ],
     "language": "python",
     "metadata": {},
     "outputs": []
    },
    {
     "cell_type": "code",
     "collapsed": false,
     "input": [
      "dx = dd['dx']\n",
      "print \"Cell dx in code units: \\n\", dx, \"\\n\"\n",
      "print \"Cell dx in centimeters: \\n\", dx.in_cgs(), \"\\n\"\n",
      "print \"Cell dx in meters: \\n\", dx.in_units('m'), \"\\n\"\n",
      "print \"Cell dx in megaparsecs: \\n\", dx.in_units('Mpc'), \"\\n\""
     ],
     "language": "python",
     "metadata": {},
     "outputs": []
    },
    {
     "cell_type": "heading",
     "level": 3,
     "metadata": {},
     "source": [
      "Unit conversions"
     ]
    },
    {
     "cell_type": "markdown",
     "metadata": {},
     "source": [
      "YTArray defines several user-visible member functions that allow data to be converted from one unit system to another:\n",
      "\n",
      "* `in_units`\n",
      "* `in_cgs`\n",
      "* `in_mks`\n",
      "* `convert_to_units`\n",
      "* `convert_to_cgs`\n",
      "* `convert_to_mks`"
     ]
    },
    {
     "cell_type": "markdown",
     "metadata": {},
     "source": [
      "The first method, `in_units`, returns a copy of the array in the units denoted by a string argument:"
     ]
    },
    {
     "cell_type": "code",
     "collapsed": false,
     "input": [
      "print dd['density'].in_units('Msun/pc**3')"
     ],
     "language": "python",
     "metadata": {},
     "outputs": []
    },
    {
     "cell_type": "markdown",
     "metadata": {},
     "source": [
      "`in_cgs` and `in_mks` return a copy of the array converted CGS and MKS units, respectively:"
     ]
    },
    {
     "cell_type": "code",
     "collapsed": false,
     "input": [
      "print (dd['pressure'])\n",
      "print (dd['pressure']).in_cgs()\n",
      "print (dd['pressure']).in_mks()"
     ],
     "language": "python",
     "metadata": {},
     "outputs": []
    },
    {
     "cell_type": "markdown",
     "metadata": {},
     "source": [
      "The next two methods do in-place conversions:"
     ]
    },
    {
     "cell_type": "code",
     "collapsed": false,
     "input": [
      "dens = dd['density']\n",
      "print dens\n",
      "\n",
      "dens.convert_to_units('Msun/pc**3')\n",
      "print dens"
     ],
     "language": "python",
     "metadata": {},
     "outputs": []
    },
    {
     "cell_type": "markdown",
     "metadata": {},
     "source": [
      "One possibly confusing wrinkle when using in-place conversions is if you try to query `dd['density']` again, you'll find that it has been converted to solar masses per cubic parsec:"
     ]
    },
    {
     "cell_type": "code",
     "collapsed": false,
     "input": [
      "print dd['density']\n",
      "\n",
      "dens.convert_to_units('g/cm**3')\n",
      "\n",
      "print dens"
     ],
     "language": "python",
     "metadata": {},
     "outputs": []
    },
    {
     "cell_type": "markdown",
     "metadata": {},
     "source": [
      "Since the unit metadata is preserved and the array values are still correct in the new unit system, all numerical operations will still be correct.\n",
      "\n",
      "One of the nicest aspects of this new unit system is that the symbolic algebra for mathematical operations on data with units is performed automatically by sympy.  This example shows how we can construct a field with density units from two other fields that have units of mass and volume:"
     ]
    },
    {
     "cell_type": "code",
     "collapsed": false,
     "input": [
      "print dd['cell_mass']\n",
      "print dd['cell_volume'].in_units('cm**3')\n",
      "\n",
      "print (dd['cell_mass']/dd['cell_volume']).in_cgs()"
     ],
     "language": "python",
     "metadata": {},
     "outputs": []
    },
    {
     "cell_type": "heading",
     "level": 3,
     "metadata": {},
     "source": [
      "Working with views and converting to ndarray"
     ]
    },
    {
     "cell_type": "markdown",
     "metadata": {},
     "source": [
      "There are two ways to convert the data into a numpy array.  The most straightforward and safe way to do this is to create a copy of the array data.  The following cell demonstrates four equivalent ways of doing this, in increasing degree of terseness."
     ]
    },
    {
     "cell_type": "code",
     "collapsed": false,
     "input": [
      "import numpy as np\n",
      "\n",
      "dens = dd['cell_mass']\n",
      "\n",
      "print dens.to_ndarray()\n",
      "print np.array(dens)\n",
      "print dens.value\n",
      "print dens.v"
     ],
     "language": "python",
     "metadata": {},
     "outputs": []
    },
    {
     "cell_type": "markdown",
     "metadata": {},
     "source": [
      "Since we have a copy of the data, we can mess with it however we wish without disturbing the original data returned by the yt data object."
     ]
    },
    {
     "cell_type": "markdown",
     "metadata": {},
     "source": [
      "Another way to touch the raw array data is to get a _view_.  A numpy view is a lightweight array interface to a memory buffer. There are four ways to create views of YTArray instances:"
     ]
    },
    {
     "cell_type": "code",
     "collapsed": false,
     "input": [
      "print dd['cell_mass'].ndarray_view()\n",
      "print dd['cell_mass'].view(np.ndarray)\n",
      "print dd['cell_mass'].ndview\n",
      "print dd['cell_mass'].d"
     ],
     "language": "python",
     "metadata": {},
     "outputs": []
    },
    {
     "cell_type": "markdown",
     "metadata": {},
     "source": [
      "When working with views, rememeber that you are touching the raw array data and no longer have any of the unit checking provided by the unit system.  This can be useful where it might be more straightforward to treat the array as if it didn't have units but without copying the data."
     ]
    },
    {
     "cell_type": "code",
     "collapsed": false,
     "input": [
      "density_values = dd['density'].d\n",
      "density_values[0:10] = 0\n",
      "\n",
      "# The original array was updated\n",
      "print dd['density']"
     ],
     "language": "python",
     "metadata": {},
     "outputs": []
    },
    {
     "cell_type": "heading",
     "level": 3,
     "metadata": {},
     "source": [
      "Round-Trip Conversions to and from AstroPy's Units System"
     ]
    },
    {
     "cell_type": "markdown",
     "metadata": {},
     "source": [
      "Finally, a `YTArray` or `YTQuantity` may be converted to an [AstroPy quantity](http://astropy.readthedocs.org/en/latest/units/), which is a NumPy array or a scalar associated with units from AstroPy's units system. You may use this facility if you have AstroPy installed. "
     ]
    },
    {
     "cell_type": "markdown",
     "metadata": {},
     "source": [
      "Some examples of converting from AstroPy units to yt:"
     ]
    },
    {
     "cell_type": "code",
     "collapsed": false,
     "input": [
      "from astropy import units as u\n",
      "x = 42.0 * u.meter\n",
      "y = YTQuantity(x)\n",
      "y2 = YTQuantity.from_astropy(x) # Another way to create the quantity"
     ],
     "language": "python",
     "metadata": {},
     "outputs": []
    },
    {
     "cell_type": "code",
     "collapsed": false,
     "input": [
      "print x, type(x)\n",
      "print y, type(y)\n",
      "print y2, type(y2)"
     ],
     "language": "python",
     "metadata": {},
     "outputs": []
    },
    {
     "cell_type": "code",
     "collapsed": false,
     "input": [
      "a = np.random.random(size=10) * u.km/u.s\n",
      "b = YTArray(a)\n",
      "b2 = YTArray.from_astropy(a) # Another way to create the quantity"
     ],
     "language": "python",
     "metadata": {},
     "outputs": []
    },
    {
     "cell_type": "code",
     "collapsed": false,
     "input": [
      "print a, type(a)\n",
      "print b, type(b)\n",
      "print b2, type(b2)"
     ],
     "language": "python",
     "metadata": {},
     "outputs": []
    },
    {
     "cell_type": "markdown",
     "metadata": {},
     "source": [
      "It also works the other way around, converting a `YTArray` or `YTQuantity` to an AstroPy quantity via the method `to_astropy`. For arrays:"
     ]
    },
    {
     "cell_type": "code",
     "collapsed": false,
     "input": [
      "temp = dd[\"temperature\"]\n",
      "atemp = temp.to_astropy()"
     ],
     "language": "python",
     "metadata": {},
     "outputs": []
    },
    {
     "cell_type": "code",
     "collapsed": false,
     "input": [
      "print temp, type(temp)\n",
      "print atemp, type(atemp)"
     ],
     "language": "python",
     "metadata": {},
     "outputs": []
    },
    {
     "cell_type": "markdown",
     "metadata": {},
     "source": [
      "and quantities:"
     ]
    },
    {
     "cell_type": "code",
     "collapsed": false,
     "input": [
      "from yt.utilities.physical_constants import kboltz\n",
      "kb = kboltz.to_astropy()"
     ],
     "language": "python",
     "metadata": {},
     "outputs": []
    },
    {
     "cell_type": "code",
     "collapsed": false,
     "input": [
      "print kboltz, type(kboltz)\n",
      "print kb, type(kb)"
     ],
     "language": "python",
     "metadata": {},
     "outputs": []
    },
    {
     "cell_type": "markdown",
     "metadata": {},
     "source": [
      "As a sanity check, you can show that it works round-trip:"
     ]
    },
    {
     "cell_type": "code",
     "collapsed": false,
     "input": [
      "k1 = kboltz.to_astropy()\n",
      "k2 = YTQuantity(kb)\n",
      "print k1 == k2"
     ],
     "language": "python",
     "metadata": {},
     "outputs": []
    },
    {
     "cell_type": "code",
     "collapsed": false,
     "input": [
      "c = YTArray(a)\n",
      "d = c.to_astropy()\n",
      "print a == d"
     ],
     "language": "python",
     "metadata": {},
     "outputs": []
    }
   ],
   "metadata": {}
  }
 ]
}