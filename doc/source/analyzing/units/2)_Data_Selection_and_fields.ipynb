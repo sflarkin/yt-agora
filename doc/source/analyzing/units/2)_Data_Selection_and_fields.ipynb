{
 "metadata": {
  "name": "",
  "signature": "sha256:b22680b89964ce22188c795c6d0e498dc5654851919949ec3c5ac8822002a43d"
 },
 "nbformat": 3,
 "nbformat_minor": 0,
 "worksheets": [
  {
   "cells": [
    {
     "cell_type": "markdown",
     "metadata": {},
     "source": [
      "In the past, querying a data object with a field name returned a NumPy `ndarray` . In the new unit system, data object queries will return a `YTArray`, a subclass of `ndarray` that preserves all of the nice properties of `ndarray`, including broadcasting, deep and shallow copies, and views. "
     ]
    },
    {
     "cell_type": "heading",
     "level": 3,
     "metadata": {},
     "source": [
      "Selecting data from an object"
     ]
    },
    {
     "cell_type": "markdown",
     "metadata": {},
     "source": [
      "`YTArray` is 'unit-aware'.  Let's show how this works in practice using a sample Enzo dataset:"
     ]
    },
    {
     "cell_type": "code",
     "collapsed": false,
     "input": [
      "from yt.mods import *\n",
      "ds = load('IsolatedGalaxy/galaxy0030/galaxy0030')\n",
      "          \n",
      "dd = ds.all_data()\n",
      "maxval, maxloc = ds.find_max('density')\n",
      "\n",
      "dens = dd['density']"
     ],
     "language": "python",
     "metadata": {},
     "outputs": []
    },
    {
     "cell_type": "code",
     "collapsed": false,
     "input": [
      "print maxval"
     ],
     "language": "python",
     "metadata": {},
     "outputs": []
    },
    {
     "cell_type": "code",
     "collapsed": false,
     "input": [
      "print dens"
     ],
     "language": "python",
     "metadata": {},
     "outputs": []
    },
    {
     "cell_type": "code",
     "collapsed": false,
     "input": [
      "mass = dd['cell_mass']\n",
      "\n",
      "print \"Cell Masses in CGS: \\n\", mass, \"\\n\"\n",
      "print \"Cell Masses in Solar Masses: \\n\", mass.in_units('Msun'), \"\\n\"\n",
      "print \"Cell Masses in code units: \\n\", mass.in_units('code_mass'), \"\\n\""
     ],
     "language": "python",
     "metadata": {},
     "outputs": []
    },
    {
     "cell_type": "code",
     "collapsed": false,
     "input": [
      "dx = dd['dx']\n",
      "print \"Cell dx in code units: \\n\", dx, \"\\n\"\n",
      "print \"Cell dx in centimeters: \\n\", dx.in_cgs(), \"\\n\"\n",
      "print \"Cell dx in megaparsecs: \\n\", dx.in_units('Mpc'), \"\\n\""
     ],
     "language": "python",
     "metadata": {},
     "outputs": []
    },
    {
     "cell_type": "heading",
     "level": 3,
     "metadata": {},
     "source": [
      "Unit conversions"
     ]
    },
    {
     "cell_type": "markdown",
     "metadata": {},
     "source": [
      "YTArray defines several user-visible member functions: \n",
      "\n",
      "* `convert_to_units`\n",
      "* `convert_to_cgs`\n",
      "* `in_units`\n",
      "* `in_cgs`\n",
      "* `to_ndarray`\n",
      "\n",
      "The first two functions do in-place operations while the second two return copies of the original array in the new unit:"
     ]
    },
    {
     "cell_type": "code",
     "collapsed": false,
     "input": [
      "print dd['density'].in_units('Msun/pc**3')\n",
      "\n",
      "dens = dd['density']\n",
      "print dens\n",
      "\n",
      "dens.convert_to_units('Msun/pc**3')\n",
      "print dens"
     ],
     "language": "python",
     "metadata": {},
     "outputs": []
    },
    {
     "cell_type": "markdown",
     "metadata": {},
     "source": [
      "One possibly confusing wrinkle in this is that the unit conversions are always done 'in place' so if you try to query `dd['density']` again, you'll find that it has been converted to solar masses per cubic parsec:"
     ]
    },
    {
     "cell_type": "code",
     "collapsed": false,
     "input": [
      "print dens\n",
      "\n",
      "dens.convert_to_units('g/cm**3')\n",
      "\n",
      "print dens"
     ],
     "language": "python",
     "metadata": {},
     "outputs": []
    },
    {
     "cell_type": "markdown",
     "metadata": {},
     "source": [
      "Since the unit metadata is preserved and the array values are still correct in the new unit system, all numerical operations will still be correct.\n",
      "\n",
      "One of the nicest aspects of this new unit system is that the symbolic algebra for mathematical operations on data with units is performed automatically by sympy.  This example shows how we can construct a field with density units from two other fields that have units of mass and volume:"
     ]
    },
    {
     "cell_type": "code",
     "collapsed": false,
     "input": [
      "print dd['cell_mass']\n",
      "print dd['cell_volume'].in_units('cm**3')\n",
      "\n",
      "print (dd['cell_mass']/dd['cell_volume']).in_cgs()"
     ],
     "language": "python",
     "metadata": {},
     "outputs": []
    },
    {
     "cell_type": "markdown",
     "metadata": {},
     "source": [
      "Of course, the data is always available as a raw NumPy array.  There are two ways to copy the contents of a `YTArray` into an ndarray:"
     ]
    },
    {
     "cell_type": "code",
     "collapsed": false,
     "input": [
      "import numpy as np\n",
      "\n",
      "print dd['cell_mass'].to_ndarray()\n",
      "print np.array(dd['cell_mass'])"
     ],
     "language": "python",
     "metadata": {},
     "outputs": []
    },
    {
     "cell_type": "markdown",
     "metadata": {},
     "source": [
      "Similarly, one can get a view into the underlying array data:"
     ]
    },
    {
     "cell_type": "code",
     "collapsed": false,
     "input": [
      "print dd['cell_mass'].ndarray_view()\n",
      "print dd['cell_mass'].view(np.ndarray)"
     ],
     "language": "python",
     "metadata": {},
     "outputs": []
    },
    {
     "cell_type": "markdown",
     "metadata": {},
     "source": [
      "When working with views, rememeber that you are touching the raw array data and no longer have any of the unit checking provided by the unit system."
     ]
    },
    {
     "cell_type": "code",
     "collapsed": false,
     "input": [
      "density = dd['density'].ndarray_view()\n",
      "density[0:10] = 0\n",
      "print dd['density']"
     ],
     "language": "python",
     "metadata": {},
     "outputs": []
    }
   ],
   "metadata": {}
  }
 ]
}