{
 "metadata": {
  "name": ""
 },
 "nbformat": 3,
 "nbformat_minor": 0,
 "worksheets": [
  {
   "cells": [
    {
     "cell_type": "markdown",
     "metadata": {},
     "source": [
      "The `particle_trajectories` analysis module enables the construction of particle trajectories from a time series of datasets for a specified list of particles identified by their unique indices. "
     ]
    },
    {
     "cell_type": "code",
     "collapsed": false,
     "input": [
      "from yt.imods import *\n",
      "from yt.analysis_modules.api import ParticleTrajectories\n",
      "from yt.config import ytcfg\n",
      "path = ytcfg.get(\"yt\", \"test_data_dir\")"
     ],
     "language": "python",
     "metadata": {},
     "outputs": []
    },
    {
     "cell_type": "markdown",
     "metadata": {},
     "source": [
      "First, let's start off with a FLASH dataset containing only two particles in a mutual circular orbit. We can get the list of filenames this way:"
     ]
    },
    {
     "cell_type": "code",
     "collapsed": false,
     "input": [
      "my_fns = glob.glob(path+\"/Orbit/orbit_hdf5_chk_00[0-9][0-9]\")\n",
      "my_fns.sort()"
     ],
     "language": "python",
     "metadata": {},
     "outputs": []
    },
    {
     "cell_type": "markdown",
     "metadata": {},
     "source": [
      "And let's define a list of fields that we want to include in the trajectories. The position fields will be included by default, so let's just ask for the velocity fields:"
     ]
    },
    {
     "cell_type": "code",
     "collapsed": false,
     "input": [
      "fields = [\"particle_velocity_x\", \"particle_velocity_y\", \"particle_velocity_z\"]"
     ],
     "language": "python",
     "metadata": {},
     "outputs": []
    },
    {
     "cell_type": "markdown",
     "metadata": {},
     "source": [
      "There are only two particles, but for consistency's sake let's grab their indices from the dataset itself:"
     ]
    },
    {
     "cell_type": "code",
     "collapsed": false,
     "input": [
      "pf = load(my_fns[0])\n",
      "dd = pf.h.all_data()\n",
      "indices = dd[\"particle_index\"].astype(\"int\")\n",
      "print indices"
     ],
     "language": "python",
     "metadata": {},
     "outputs": []
    },
    {
     "cell_type": "markdown",
     "metadata": {},
     "source": [
      "which is what we expected them to be. Now we're ready to create a `ParticleTrajectories` object:"
     ]
    },
    {
     "cell_type": "code",
     "collapsed": false,
     "input": [
      "trajs = ParticleTrajectories(my_fns, indices, fields=fields)"
     ],
     "language": "python",
     "metadata": {},
     "outputs": []
    },
    {
     "cell_type": "markdown",
     "metadata": {},
     "source": [
      "The `ParticleTrajectories` object `trajs` is essentially a dictionary-like container for the particle fields along the trajectory, and can be accessed as such:"
     ]
    },
    {
     "cell_type": "code",
     "collapsed": false,
     "input": [
      "print trajs[\"particle_position_x\"]\n",
      "print trajs[\"particle_position_x\"].shape"
     ],
     "language": "python",
     "metadata": {},
     "outputs": []
    },
    {
     "cell_type": "markdown",
     "metadata": {},
     "source": [
      "Note that each field is a 2D NumPy array with the different particle indices along the first dimension and the times along the second dimension. As such, we can access them individually by indexing the field:"
     ]
    },
    {
     "cell_type": "code",
     "collapsed": false,
     "input": [
      "pylab.plot(trajs[\"particle_position_x\"][0], trajs[\"particle_position_y\"][0])\n",
      "pylab.plot(trajs[\"particle_position_x\"][1], trajs[\"particle_position_y\"][1])"
     ],
     "language": "python",
     "metadata": {},
     "outputs": []
    },
    {
     "cell_type": "markdown",
     "metadata": {},
     "source": [
      "And we can plot the velocity fields as well:"
     ]
    },
    {
     "cell_type": "code",
     "collapsed": false,
     "input": [
      "pylab.plot(trajs[\"particle_velocity_x\"][0], trajs[\"particle_velocity_y\"][0])\n",
      "pylab.plot(trajs[\"particle_velocity_x\"][1], trajs[\"particle_velocity_y\"][1])"
     ],
     "language": "python",
     "metadata": {},
     "outputs": []
    },
    {
     "cell_type": "markdown",
     "metadata": {},
     "source": [
      "If we want to access the time along the trajectory, we use the key `\"particle_time\"`:"
     ]
    },
    {
     "cell_type": "code",
     "collapsed": false,
     "input": [
      "pylab.plot(trajs[\"particle_time\"], trajs[\"particle_velocity_x\"][1])\n",
      "pylab.plot(trajs[\"particle_time\"], trajs[\"particle_velocity_y\"][1])"
     ],
     "language": "python",
     "metadata": {},
     "outputs": []
    },
    {
     "cell_type": "markdown",
     "metadata": {},
     "source": [
      "Alternatively, if we know the particle index we'd like to examine, we can get an individual trajectory corresponding to that index:"
     ]
    },
    {
     "cell_type": "code",
     "collapsed": false,
     "input": [
      "particle1 = trajs.trajectory_from_index(1)\n",
      "pylab.plot(particle1[\"particle_time\"], particle1[\"particle_position_x\"])\n",
      "pylab.plot(particle1[\"particle_time\"], particle1[\"particle_position_y\"])"
     ],
     "language": "python",
     "metadata": {},
     "outputs": []
    },
    {
     "cell_type": "markdown",
     "metadata": {},
     "source": [
      "Now let's look at a more complicated (and fun!) example. We'll use an Enzo cosmology dataset. First, we'll find the maximum density in the domain, and obtain the indices of the particles within some radius of the center. First, let's have a look at what we're getting:"
     ]
    },
    {
     "cell_type": "code",
     "collapsed": false,
     "input": [
      "pf = load(\"enzo_tiny_cosmology/DD0046/DD0046\")\n",
      "slc = SlicePlot(pf, \"x\", [\"Density\",\"Dark_Matter_Density\"], center=\"max\", width=(3.0, \"mpc\"))\n",
      "slc.show()"
     ],
     "language": "python",
     "metadata": {},
     "outputs": []
    },
    {
     "cell_type": "markdown",
     "metadata": {},
     "source": [
      "So far, so good--it looks like we've centered on a galaxy cluster. Let's grab all of the dark matter particles within a sphere of 0.5 Mpc (identified by `\"particle_type == 1\"`):"
     ]
    },
    {
     "cell_type": "code",
     "collapsed": false,
     "input": [
      "sp = pf.h.sphere(\"max\", (0.5, \"mpc\"))\n",
      "indices = sp[\"particle_index\"][sp[\"particle_type\"] == 1]"
     ],
     "language": "python",
     "metadata": {},
     "outputs": []
    },
    {
     "cell_type": "markdown",
     "metadata": {},
     "source": [
      "Next we'll get the list of datasets we want, and create trajectories for these particles:"
     ]
    },
    {
     "cell_type": "code",
     "collapsed": false,
     "input": [
      "my_fns = glob.glob(path+\"/enzo_tiny_cosmology/DD*/*.hierarchy\")\n",
      "my_fns.sort()\n",
      "trajs = ParticleTrajectories(my_fns, indices)"
     ],
     "language": "python",
     "metadata": {},
     "outputs": []
    },
    {
     "cell_type": "markdown",
     "metadata": {},
     "source": [
      "Matplotlib can make 3D plots, so let's pick three particle trajectories at random and look at them in the volume:"
     ]
    },
    {
     "cell_type": "code",
     "collapsed": false,
     "input": [
      "import matplotlib.pyplot as plt\n",
      "from mpl_toolkits.mplot3d import Axes3D\n",
      "fig = plt.figure(figsize=(8.0, 8.0))\n",
      "ax = fig.add_subplot(111, projection='3d')\n",
      "ax.plot(trajs[\"particle_position_x\"][100], trajs[\"particle_position_z\"][100], trajs[\"particle_position_z\"][100])\n",
      "ax.plot(trajs[\"particle_position_x\"][8], trajs[\"particle_position_z\"][8], trajs[\"particle_position_z\"][8])\n",
      "ax.plot(trajs[\"particle_position_x\"][25], trajs[\"particle_position_z\"][25], trajs[\"particle_position_z\"][25])"
     ],
     "language": "python",
     "metadata": {},
     "outputs": []
    },
    {
     "cell_type": "markdown",
     "metadata": {},
     "source": [
      "It looks like these three different particles fell into the cluster along different filaments. We can also look at their x-positions only as a function of time:"
     ]
    },
    {
     "cell_type": "code",
     "collapsed": false,
     "input": [
      "pylab.plot(trajs[\"particle_time\"], trajs[\"particle_position_x\"][100])\n",
      "pylab.plot(trajs[\"particle_time\"], trajs[\"particle_position_x\"][8])\n",
      "pylab.plot(trajs[\"particle_time\"], trajs[\"particle_position_x\"][25])"
     ],
     "language": "python",
     "metadata": {},
     "outputs": []
    },
    {
     "cell_type": "markdown",
     "metadata": {},
     "source": [
      "Suppose we wanted to know the gas density along the particle trajectory, but there wasn't a particle field corresponding to that in our dataset. Never fear! If the field exists as a grid field, `yt` will interpolate this field to the particle positions and add the interpolated field to the trajectory. To add such a field (or any field, including additional particle fields) we can call the `add_fields` method:"
     ]
    },
    {
     "cell_type": "code",
     "collapsed": false,
     "input": [
      "trajs.add_fields([\"Density\"])"
     ],
     "language": "python",
     "metadata": {},
     "outputs": []
    },
    {
     "cell_type": "markdown",
     "metadata": {},
     "source": [
      "We also could have included `\"Density\"` in our original field list. Now, plot up the gas density for each particle as a function of time:"
     ]
    },
    {
     "cell_type": "code",
     "collapsed": false,
     "input": [
      "pylab.plot(trajs[\"particle_time\"], trajs[\"Density\"][100])\n",
      "pylab.plot(trajs[\"particle_time\"], trajs[\"Density\"][8])\n",
      "pylab.plot(trajs[\"particle_time\"], trajs[\"Density\"][25])\n",
      "pylab.yscale(\"log\")"
     ],
     "language": "python",
     "metadata": {},
     "outputs": []
    },
    {
     "cell_type": "markdown",
     "metadata": {},
     "source": [
      "Finally, the particle trajectories can be written to disk. Two options are provided: ASCII text files with a column for each field and the time, and HDF5 files:"
     ]
    },
    {
     "cell_type": "code",
     "collapsed": false,
     "input": [
      "trajs.write_out(\"halo_trajectories.txt\")\n",
      "trajs.write_out_h5(\"halo_trajectories.h5\")"
     ],
     "language": "python",
     "metadata": {},
     "outputs": []
    },
    {
     "cell_type": "heading",
     "level": 2,
     "metadata": {},
     "source": [
      "Important Caveats"
     ]
    },
    {
     "cell_type": "markdown",
     "metadata": {},
     "source": [
      "* Parallelization is not yet implemented.\n",
      "* For large datasets, constructing trajectories can be very slow. We are working on optimizing the algorithm for a future release. \n",
      "* At the moment, trajectories are limited for particles that exist in every dataset. Therefore, for codes like FLASH that allow for particles to exit the domain (and hence the simulation) for certain types of boundary conditions, you need to insure that the particles you wish to examine exist in all datasets in the time series from the beginning to the end. If this is not the case, `ParticleTrajectories` will throw an error. This is a limitation we hope to relax in a future release. "
     ]
    }
   ],
   "metadata": {}
  }
 ]
}