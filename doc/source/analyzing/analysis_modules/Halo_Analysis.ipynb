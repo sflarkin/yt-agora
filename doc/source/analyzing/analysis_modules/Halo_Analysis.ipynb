{
 "metadata": {
  "name": ""
 },
 "nbformat": 3,
 "nbformat_minor": 0,
 "worksheets": [
  {
   "cells": [
    {
     "cell_type": "heading",
     "level": 1,
     "metadata": {},
     "source": [
      "Full Halo Analysis"
     ]
    },
    {
     "cell_type": "heading",
     "level": 3,
     "metadata": {},
     "source": [
      "Creating a Catalog"
     ]
    },
    {
     "cell_type": "markdown",
     "metadata": {},
     "source": [
      "Here we put everything together to perform some realistic analysis. First we load a full simulation dataset."
     ]
    },
    {
     "cell_type": "code",
     "collapsed": false,
     "input": [
      "from yt.mods import *\n",
      "from yt.analysis_modules.halo_analysis.api import *\n",
      "path = ytcfg.get(\"yt\", \"test_data_dir\")\n",
      "\n",
      "# Load the data set with the full simulation information\n",
      "data_pf = load(path+'Enzo_64/RD0006/RedshiftOutput0006')"
     ],
     "language": "python",
     "metadata": {},
     "outputs": [],
     "prompt_number": 1
    },
    {
     "cell_type": "markdown",
     "metadata": {},
     "source": [
      "Now we load a rockstar halos binary file. This is the output from running the rockstar halo finder on the dataset loaded above. It is also possible to require the HaloCatalog to find the halos in the full simulation dataset at runtime by specifying a `finder_method` keyword."
     ]
    },
    {
     "cell_type": "code",
     "collapsed": false,
     "input": [
      "# Load the rockstar data files\n",
      "halos_pf = load(path+'rockstar_halos/halos_0.0.bin')"
     ],
     "language": "python",
     "metadata": {},
     "outputs": [],
     "prompt_number": 2
    },
    {
     "cell_type": "markdown",
     "metadata": {},
     "source": [
      "From these two loaded datasets we create a halo catalog object. No analysis is done at this point, we are simply defining an object we can add analysis tasks to. These analysis tasks will be run in the order they are added to the halo catalog object."
     ]
    },
    {
     "cell_type": "code",
     "collapsed": false,
     "input": [
      "# Instantiate a catalog using those two paramter files\n",
      "hc = HaloCatalog(data_pf=data_pf, halos_pf=halos_pf, \n",
      "                 output_dir = path+'halo_catalog')"
     ],
     "language": "python",
     "metadata": {},
     "outputs": [],
     "prompt_number": 3
    },
    {
     "cell_type": "markdown",
     "metadata": {},
     "source": [
      "The first analysis task we add is a filter for the most massive halos; those with masses great than $10^{14}~M_\\odot$. Note that all following analysis will only be performed on these massive halos and we will not waste computational time calculating quantities for halos we are not interested in. This is a result of adding this filter first. If we had called `add_filter` after some other `add_quantity` or `add_callback` to the halo catalog, the quantity and callback calculations would have been performed for all halos, not just those which pass the filter."
     ]
    },
    {
     "cell_type": "code",
     "collapsed": true,
     "input": [
      "# Filter out less massive halos\n",
      "hc.add_filter(\"quantity_value\", \"particle_mass\", \">\", 1e14, \"Msun\")"
     ],
     "language": "python",
     "metadata": {},
     "outputs": [],
     "prompt_number": 4
    },
    {
     "cell_type": "heading",
     "level": 3,
     "metadata": {},
     "source": [
      "Finding Radial Profiles"
     ]
    },
    {
     "cell_type": "markdown",
     "metadata": {},
     "source": [
      "Our first analysis goal is going to be constructing radial profiles for our halos. We would like these profiles to be in terms of the virial radius. Unfortunately we have no guarantee that values of center and virial radius recorded by the halo finder are actually physical. Therefore we should recalculate these quantities ourselves using the values recorded by the halo finder as a starting point."
     ]
    },
    {
     "cell_type": "markdown",
     "metadata": {},
     "source": [
      "The first step is going to be creating a sphere object that we will create radial profiles along. This attaches a sphere data object to every halo left in the catalog."
     ]
    },
    {
     "cell_type": "code",
     "collapsed": false,
     "input": [
      "# attach a sphere object to each halo whose radius extends to twice the radius of the halo\n",
      "hc.add_callback(\"sphere\", factor=2.0)"
     ],
     "language": "python",
     "metadata": {},
     "outputs": [],
     "prompt_number": 5
    },
    {
     "cell_type": "markdown",
     "metadata": {},
     "source": [
      "Next we find the radial profile of the gas overdensity along the sphere object in order to find the virial radius. `radius` is the axis along which we make bins for the radial profiles. `[(\"gas\",\"overdensity\")]` is the quantity that we are profiling. This is a list so we can profile as many quantities as we want. The `weight_field` indicates how the cells should be weighted, but note that this is not a list, so all quantities will be weighted in the same way. The `accumulation` keyword indicates if the profile should be cummulative; this is useful for calculating profiles such as enclosed mass. The `storage` keyword indicates the name of the attribute of a halo where these profiles will be stored. Setting the storage keyword to \"virial_quantities_profiles\" means that the profiles will be stored in a dictionary that can be accessed by `halo.virial_quantities_profiles`."
     ]
    },
    {
     "cell_type": "code",
     "collapsed": false,
     "input": [
      "# use the sphere to calculate radial profiles of gas density weighted by cell volume in terms of the virial radius\n",
      "hc.add_callback(\"profile\", x_field=\"radius\",\n",
      "                y_fields=[(\"gas\", \"overdensity\")],\n",
      "                weight_field=\"cell_volume\", \n",
      "                accumulation=False,\n",
      "                storage=\"virial_quantities_profiles\")"
     ],
     "language": "python",
     "metadata": {},
     "outputs": [],
     "prompt_number": 6
    },
    {
     "cell_type": "markdown",
     "metadata": {},
     "source": [
      "Now we calculate the virial radius of halo using the sphere object. As this is a callback, not a quantity, the virial radius will not be written out with the rest of the halo properties in the final halo catalog. This also has a `profile_storage` keyword to specify where the radial profiles are stored that will allow the callback to calculate the relevant virial quantities. We supply this keyword with the same string we gave to `storage` in the last `profile` callback."
     ]
    },
    {
     "cell_type": "code",
     "collapsed": false,
     "input": [
      "# Define a virial radius for the halo.\n",
      "hc.add_callback(\"virial_quantities\", [\"radius\"], \n",
      "                profile_storage = \"virial_quantities_profiles\")"
     ],
     "language": "python",
     "metadata": {},
     "outputs": [],
     "prompt_number": 7
    },
    {
     "cell_type": "markdown",
     "metadata": {},
     "source": [
      "Now that we have calculated the virial radius, we delete the profiles we used to find it."
     ]
    },
    {
     "cell_type": "code",
     "collapsed": false,
     "input": [
      "hc.add_callback('delete_attribute','virial_quantities_profiles')"
     ],
     "language": "python",
     "metadata": {},
     "outputs": [],
     "prompt_number": 8
    },
    {
     "cell_type": "markdown",
     "metadata": {},
     "source": [
      "Now that we have calculated virial quantities we can add a new sphere that is aware of the virial radius we calculated above."
     ]
    },
    {
     "cell_type": "code",
     "collapsed": false,
     "input": [
      "hc.add_callback('sphere', radius_field='radius_200', factor = 5,\n",
      "        field_parameters = dict(virial_radius=('quantity','radius_200')))"
     ],
     "language": "python",
     "metadata": {},
     "outputs": [],
     "prompt_number": 9
    },
    {
     "cell_type": "markdown",
     "metadata": {},
     "source": [
      "Using this new sphere, we calculate a gas temperature profile along the virial radius, weighted by the cell mass."
     ]
    },
    {
     "cell_type": "code",
     "collapsed": false,
     "input": [
      "hc.add_callback('profile', 'virial_radius', [('gas','temperature')],\n",
      "        storage = 'virial_profiles',\n",
      "        weight_field = 'cell_mass', \n",
      "        accumulation=False, output_dir='profiles')\n"
     ],
     "language": "python",
     "metadata": {},
     "outputs": [],
     "prompt_number": 10
    },
    {
     "cell_type": "markdown",
     "metadata": {},
     "source": [
      "As profiles are not quantities they will not automatically be written out in the halo catalog; thus in order to be reloadable we must write them out explicitly through a callback of `save_profiles`. This makes sense because they have an extra dimension for each halo along the profile axis. "
     ]
    },
    {
     "cell_type": "code",
     "collapsed": false,
     "input": [
      "# Save the profiles\n",
      "hc.add_callback(\"save_profiles\", storage=\"virial_profiles\", output_dir=\"profiles\")"
     ],
     "language": "python",
     "metadata": {},
     "outputs": [],
     "prompt_number": 11
    },
    {
     "cell_type": "markdown",
     "metadata": {},
     "source": [
      "We then create the halo catalog. Remember, no analysis is done before this call to create. By adding callbacks and filters we are simply queuing up the actions we want to take that will all run now."
     ]
    },
    {
     "cell_type": "code",
     "collapsed": true,
     "input": [
      "hc.create()"
     ],
     "language": "python",
     "metadata": {},
     "outputs": [],
     "prompt_number": 12
    },
    {
     "cell_type": "heading",
     "level": 3,
     "metadata": {},
     "source": [
      "Reloading HaloCatalogs"
     ]
    },
    {
     "cell_type": "markdown",
     "metadata": {},
     "source": [
      "Finally we load these profiles back in and make a pretty plot. It is not strictly necessary to reload the profiles in this notebook, but we show this process here to illustrate that this step may be performed completely separately from the rest of the script. This workflow allows you to create a single script that will allow you to perform all of the analysis that requires the full dataset. The output can then be saved in a compact form where only the necessarily halo quantities are stored. You can then download this smaller dataset to a local computer and run any further non-computationally intense analysis and design the appropriate plots."
     ]
    },
    {
     "cell_type": "markdown",
     "metadata": {},
     "source": [
      "We can load a previously saved halo catalog by using the `load` command. We then create a `HaloCatalog` object from just this dataset."
     ]
    },
    {
     "cell_type": "code",
     "collapsed": false,
     "input": [
      "halos_pf =  load(path+'halo_catalog/halo_catalog.0.h5')\n",
      "\n",
      "hc_reloaded = HaloCatalog(halos_pf=halos_pf, output_dir=path+'halo_catalog')"
     ],
     "language": "python",
     "metadata": {},
     "outputs": [],
     "prompt_number": 13
    },
    {
     "cell_type": "markdown",
     "metadata": {},
     "source": [
      " Just as profiles are saved seperately throught the `save_profiles` callback they also must be loaded separately using the `load_profiles` callback."
     ]
    },
    {
     "cell_type": "code",
     "collapsed": false,
     "input": [
      "hc_reloaded.add_callback('load_profiles',storage='virial_profiles',\n",
      "        output_dir='profiles')"
     ],
     "language": "python",
     "metadata": {},
     "outputs": [],
     "prompt_number": 14
    },
    {
     "cell_type": "markdown",
     "metadata": {},
     "source": [
      "Calling `load` is the equivalent of calling `create` earlier, but defaults to to not saving new information. This means that the callback to `load_profiles` is not run until we call `load` here."
     ]
    },
    {
     "cell_type": "code",
     "collapsed": true,
     "input": [
      "hc_reloaded.load()"
     ],
     "language": "python",
     "metadata": {},
     "outputs": [],
     "prompt_number": 15
    },
    {
     "cell_type": "heading",
     "level": 3,
     "metadata": {},
     "source": [
      "Plotting Radial Profiles"
     ]
    },
    {
     "cell_type": "markdown",
     "metadata": {},
     "source": [
      "In the future ProfilePlot will be able to properly interpret the loaded profiles of `Halo` and `HaloCatalog` objects, but this functionality is not yet implemented. In the meantime, we show a quick method of viewing a profile for a single halo."
     ]
    },
    {
     "cell_type": "markdown",
     "metadata": {},
     "source": [
      "The individual `Halo` objects contained in the `HaloCatalog` can be accessed through the `halo_list` attribute. This gives us access to the dictionary attached to each halo where we stored the radial profiles."
     ]
    },
    {
     "cell_type": "code",
     "collapsed": false,
     "input": [
      "halo = hc_reloaded.halo_list[0]\n",
      "\n",
      "radius = halo.virial_profiles['virial_radius']\n",
      "temperature = halo.virial_profiles[u\"('gas', 'temperature')\"]"
     ],
     "language": "python",
     "metadata": {},
     "outputs": [],
     "prompt_number": 16
    },
    {
     "cell_type": "markdown",
     "metadata": {},
     "source": [
      "Here we quickly use matplotlib to create a basic plot of the radial profile of this halo. When `ProfilePlot` is properly configured to accept Halos and HaloCatalogs the full range of yt plotting tools will be accessible."
     ]
    },
    {
     "cell_type": "code",
     "collapsed": false,
     "input": [
      "%matplotlib inline\n",
      "import matplotlib.pyplot as plt\n",
      "\n",
      "plt.plot(radius,temperature)\n",
      "\n",
      "plt.semilogy()\n",
      "plt.xlabel('$\\mathrm{R/R_{vir}}$')\n",
      "plt.ylabel('$\\mathrm{Temperature~[K]}$')\n",
      "\n",
      "plt.show()"
     ],
     "language": "python",
     "metadata": {},
     "outputs": [
      {
       "metadata": {},
       "output_type": "display_data",
       "png": "[encoded data removed]",
       "text": [
        "<matplotlib.figure.Figure at 0x106d96650>"
       ]
      }
     ],
     "prompt_number": 17
    }
   ],
   "metadata": {}
  }
 ]
}