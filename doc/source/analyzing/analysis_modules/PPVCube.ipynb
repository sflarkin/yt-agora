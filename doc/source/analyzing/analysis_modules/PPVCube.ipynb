{
 "metadata": {
  "name": "",
  "signature": "sha256:56a8d72735e3cc428ff04b241d4b2ce6f653019818c6fc7a4148840d99030c85"
 },
 "nbformat": 3,
 "nbformat_minor": 0,
 "worksheets": [
  {
   "cells": [
    {
     "cell_type": "markdown",
     "metadata": {},
     "source": [
      "Detailed spectra of astrophysical objects sometimes allow for determinations of how much of the gas is moving with a certain velocity along the line of sight, thanks to Doppler shifting of spectral lines. This enables \"data cubes\" to be created in RA, Dec, and line-of-sight velocity space. In yt, we can use the `PPVCube` analysis module to project fields along a given line of sight traveling at different line-of-sight velocities, to \"mock-up\" what would be seen in observations."
     ]
    },
    {
     "cell_type": "code",
     "collapsed": false,
     "input": [
      "import yt\n",
      "import numpy as np\n",
      "\n",
      "from yt.analysis_modules.ppv_cube.api import PPVCube"
     ],
     "language": "python",
     "metadata": {},
     "outputs": []
    },
    {
     "cell_type": "markdown",
     "metadata": {},
     "source": [
      "To demonstrate this functionality, we'll create a simple unigrid dataset from scratch of a rotating disk galaxy. We create a thin disk in the x-y midplane of the domain of three cells in height in either direction, and a radius of 10 kpc. The density and azimuthal velocity profiles of the disk as a function of radius will be given by the following functions:"
     ]
    },
    {
     "cell_type": "markdown",
     "metadata": {},
     "source": [
      "Density: $\\rho(r) \\propto r^{\\alpha}$"
     ]
    },
    {
     "cell_type": "markdown",
     "metadata": {},
     "source": [
      "Velocity: $v_{\\theta}(r) \\propto \\frac{r}{1+(r/r_0)^{\\beta}}$"
     ]
    },
    {
     "cell_type": "markdown",
     "metadata": {},
     "source": [
      "where for simplicity we won't worry about the normalizations of these profiles. "
     ]
    },
    {
     "cell_type": "markdown",
     "metadata": {},
     "source": [
      "First, we'll set up the grid and the parameters of the profiles:"
     ]
    },
    {
     "cell_type": "code",
     "collapsed": false,
     "input": [
      "nx,ny,nz = (256,256,256) # domain dimensions\n",
      "R = 10. # outer radius of disk, kpc\n",
      "r_0 = 3. # scale radius, kpc\n",
      "beta = 1.4 # for the tangential velocity profile\n",
      "alpha = -1. # for the radial density profile\n",
      "x, y = np.mgrid[-R:R:nx*1j,-R:R:ny*1j] # cartesian coordinates of x-y plane of disk\n",
      "r = np.sqrt(x*x+y*y) # polar coordinates\n",
      "theta = np.arctan2(y, x) # polar coordinates"
     ],
     "language": "python",
     "metadata": {},
     "outputs": []
    },
    {
     "cell_type": "markdown",
     "metadata": {},
     "source": [
      "Second, we'll construct the data arrays for the density and the velocity of the disk. Since we have the tangential velocity profile, we have to use the polar coordinates we derived earlier to compute `velx` and `vely`. Everywhere outside the disk, all fields are set to zero.  "
     ]
    },
    {
     "cell_type": "code",
     "collapsed": false,
     "input": [
      "dens = np.zeros((nx,ny,nz))\n",
      "dens[:,:,nz/2-3:nz/2+3] = (r**alpha).reshape(nx,ny,1) # the density profile of the disk\n",
      "vel_theta = r/(1.+(r/r_0)**beta) # the azimuthal velocity profile of the disk\n",
      "velx = np.zeros((nx,ny,nz))\n",
      "vely = np.zeros((nx,ny,nz))\n",
      "velx[:,:,nz/2-3:nz/2+3] = (-vel_theta*np.sin(theta)).reshape(nx,ny,1) # convert polar to cartesian\n",
      "vely[:,:,nz/2-3:nz/2+3] = (vel_theta*np.cos(theta)).reshape(nx,ny,1) # convert polar to cartesian\n",
      "dens[r > R] = 0.0\n",
      "velx[r > R] = 0.0\n",
      "vely[r > R] = 0.0"
     ],
     "language": "python",
     "metadata": {},
     "outputs": []
    },
    {
     "cell_type": "markdown",
     "metadata": {},
     "source": [
      "Finally, we'll package these data arrays up into a dictionary, which will then be shipped off to `load_uniform_grid`. We'll define the width of the grid to be `2*R` kpc, which will be equal to 1  `code_length`. "
     ]
    },
    {
     "cell_type": "code",
     "collapsed": false,
     "input": [
      "data = {}\n",
      "data[\"density\"] = (dens,\"g/cm**3\")\n",
      "data[\"velocity_x\"] = (velx, \"km/s\")\n",
      "data[\"velocity_y\"] = (vely, \"km/s\")\n",
      "data[\"velocity_z\"] = (np.zeros((nx,ny,nz)), \"km/s\") # zero velocity in the z-direction\n",
      "bbox = np.array([[-0.5,0.5],[-0.5,0.5],[-0.5,0.5]]) # bbox of width 1 on a side with center (0,0,0)\n",
      "ds = yt.load_uniform_grid(data, (nx,ny,nz), length_unit=(2*R,\"kpc\"), nprocs=1, bbox=bbox)"
     ],
     "language": "python",
     "metadata": {},
     "outputs": []
    },
    {
     "cell_type": "markdown",
     "metadata": {},
     "source": [
      "To get a sense of what the data looks like, we'll take a slice through the middle of the disk:"
     ]
    },
    {
     "cell_type": "code",
     "collapsed": false,
     "input": [
      "slc = yt.SlicePlot(ds, \"z\", [\"density\",\"velocity_x\",\"velocity_y\",\"velocity_magnitude\"])"
     ],
     "language": "python",
     "metadata": {},
     "outputs": []
    },
    {
     "cell_type": "code",
     "collapsed": false,
     "input": [
      "slc.set_log(\"velocity_x\", False)\n",
      "slc.set_log(\"velocity_y\", False)\n",
      "slc.set_log(\"velocity_magnitude\", False)\n",
      "slc.set_unit(\"velocity_magnitude\", \"km/s\")\n",
      "slc.show()"
     ],
     "language": "python",
     "metadata": {},
     "outputs": []
    },
    {
     "cell_type": "markdown",
     "metadata": {},
     "source": [
      "Which shows a rotating disk with a specific density and velocity profile. Now, suppose we wanted to look at this disk galaxy from a certain orientation angle, and simulate a 3D FITS data cube where we can see the gas that is emitting at different velocities along the line of sight. We can do this using the `PPVCube` class. First, let's assume we rotate our viewing angle 60 degrees from face-on, from along the z-axis into the y-axis. We'll create a normal vector:"
     ]
    },
    {
     "cell_type": "code",
     "collapsed": false,
     "input": [
      "i = 60.*np.pi/180.\n",
      "L = [0.0,np.sin(i),np.sin(i)]"
     ],
     "language": "python",
     "metadata": {},
     "outputs": []
    },
    {
     "cell_type": "markdown",
     "metadata": {},
     "source": [
      "Next, we need to specify a field that will serve as the \"intensity\" of the emission that we see. For simplicity, we'll simply choose the gas density as this field, though it could be any field (including derived fields) in principle. We also need to specify the dimensions of the data cube, and optionally we may choose the bounds in line-of-sight velocity that the data will be binned into. Otherwise, the bounds will simply be set to the negative and positive of the largest speed in the dataset."
     ]
    },
    {
     "cell_type": "code",
     "collapsed": false,
     "input": [
      "cube = PPVCube(ds, L, \"density\", dims=(200,100,50), velocity_bounds=(-1.5,1.5,\"km/s\"))"
     ],
     "language": "python",
     "metadata": {},
     "outputs": []
    },
    {
     "cell_type": "markdown",
     "metadata": {},
     "source": [
      "Following this, we can now write this cube to a FITS file:"
     ]
    },
    {
     "cell_type": "code",
     "collapsed": false,
     "input": [
      "cube.write_fits(\"cube.fits\", clobber=True, length_unit=(5.0,\"deg\"))"
     ],
     "language": "python",
     "metadata": {},
     "outputs": []
    },
    {
     "cell_type": "markdown",
     "metadata": {},
     "source": [
      "Now, we'll look at the FITS dataset in yt and look at different slices along the velocity axis, which is the \"z\" axis:"
     ]
    },
    {
     "cell_type": "code",
     "collapsed": false,
     "input": [
      "ds = yt.load(\"cube.fits\")"
     ],
     "language": "python",
     "metadata": {},
     "outputs": []
    },
    {
     "cell_type": "code",
     "collapsed": false,
     "input": [
      "# Specifying no center gives us the center slice\n",
      "slc = yt.SlicePlot(ds, \"z\", [\"density\"])\n",
      "slc.show()"
     ],
     "language": "python",
     "metadata": {},
     "outputs": []
    },
    {
     "cell_type": "code",
     "collapsed": false,
     "input": [
      "import yt.units as u\n",
      "# Picking different velocities for the slices\n",
      "new_center = ds.domain_center\n",
      "new_center[2] = ds.spec2pixel(-1.0*u.km/u.s)\n",
      "slc = yt.SlicePlot(ds, \"z\", [\"density\"], center=new_center)\n",
      "slc.show()"
     ],
     "language": "python",
     "metadata": {},
     "outputs": []
    },
    {
     "cell_type": "code",
     "collapsed": false,
     "input": [
      "new_center[2] = ds.spec2pixel(0.7*u.km/u.s)\n",
      "slc = yt.SlicePlot(ds, \"z\", [\"density\"], center=new_center)\n",
      "slc.show()"
     ],
     "language": "python",
     "metadata": {},
     "outputs": []
    },
    {
     "cell_type": "code",
     "collapsed": false,
     "input": [
      "new_center[2] = ds.spec2pixel(-0.3*u.km/u.s)\n",
      "slc = yt.SlicePlot(ds, \"z\", [\"density\"], center=new_center)\n",
      "slc.show()"
     ],
     "language": "python",
     "metadata": {},
     "outputs": []
    },
    {
     "cell_type": "markdown",
     "metadata": {},
     "source": [
      "If we project all the emission at all the different velocities along the z-axis, we recover the entire disk:"
     ]
    },
    {
     "cell_type": "code",
     "collapsed": false,
     "input": [
      "prj = yt.ProjectionPlot(ds, \"z\", [\"density\"], method=\"sum\")\n",
      "prj.set_log(\"density\", True)\n",
      "prj.set_zlim(\"density\", 1.0e-3, 0.2)\n",
      "prj.show()"
     ],
     "language": "python",
     "metadata": {},
     "outputs": []
    }
   ],
   "metadata": {}
  }
 ]
}
