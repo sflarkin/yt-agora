{
 "metadata": {
  "name": "",
  "signature": "sha256:20464f4ff5125b848cb3934f78e207b648090473be98ab1315da63d3d290a760"
 },
 "nbformat": 3,
 "nbformat_minor": 0,
 "worksheets": [
  {
   "cells": [
    {
     "cell_type": "markdown",
     "metadata": {},
     "source": [
      "Detailed spectra of astrophysical objects sometimes allow for determinations of how much of the gas is moving with a certain velocity along the line of sight, thanks to Doppler shifting of spectral lines. This enables \"data cubes\" to be created in RA, Dec, and line-of-sight velocity space. In yt, we can use the `PPVCube` analysis module to project fields along a given line of sight traveling at different line-of-sight velocities, to \"mock-up\" what would be seen in observations."
     ]
    },
    {
     "cell_type": "markdown",
     "metadata": {},
     "source": [
      "To demonstrate this functionality, we'll create a simple unigrid dataset from scratch of a rotating disk galaxy. We create a thin disk in the x-y midplane of the domain of three cells in height in either direction, and a radius of 10 kpc. The density and azimuthal velocity profiles of the disk as a function of radius will be given by the following functions:"
     ]
    },
    {
     "cell_type": "markdown",
     "metadata": {},
     "source": [
      "Density: $\\rho(r) \\propto r^{\\alpha}$"
     ]
    },
    {
     "cell_type": "markdown",
     "metadata": {},
     "source": [
      "Velocity: $v_{\\theta}(r) \\propto \\frac{r}{1+(r/r_0)^{\\beta}}$"
     ]
    },
    {
     "cell_type": "markdown",
     "metadata": {},
     "source": [
      "where for simplicity we won't worry about the normalizations of these profiles. "
     ]
    },
    {
     "cell_type": "code",
     "collapsed": false,
     "input": [
      "%matplotlib inline\n",
      "from yt.mods import *\n",
      "from yt.analysis_modules.api import PPVCube"
     ],
     "language": "python",
     "metadata": {},
     "outputs": []
    },
    {
     "cell_type": "code",
     "collapsed": false,
     "input": [
      "data = {}\n",
      "nx,ny,nz = (256,256,256)\n",
      "R = 10. # kpc\n",
      "r_0 = 3. # kpc\n",
      "beta = 1.4\n",
      "alpha = -1.\n",
      "x, y = np.mgrid[-R:R:nx*1j,-R:R:ny*1j] # cartesian coordinates\n",
      "r = np.sqrt(x*x+y*y) # polar coordinates\n",
      "theta = np.arctan2(y, x) # polar coordinates\n",
      "dens = np.zeros((nx,ny,nz))\n",
      "dens[:,:,nz/2-3:nz/2+3] = (r**alpha).reshape(nx,ny,1) # the density profile of the disk\n",
      "vel_theta = r/(1.+(r/r_0)**beta) # the azimuthal velocity profile of the disk\n",
      "velx = np.zeros((nx,ny,nz))\n",
      "vely = np.zeros((nx,ny,nz))\n",
      "velx[:,:,nz/2-3:nz/2+3] = (-vel_theta*np.sin(theta)).reshape(nx,ny,1) # convert polar to cartesian\n",
      "vely[:,:,nz/2-3:nz/2+3] = (vel_theta*np.cos(theta)).reshape(nx,ny,1) # convert polar to cartesian\n",
      "data[\"density\"] = (dens,\"g/cm**3\")\n",
      "data[\"velocity_x\"] = (velx, \"km/s\")\n",
      "data[\"velocity_y\"] = (vely, \"km/s\")\n",
      "data[\"velocity_z\"] = (np.zeros((nx,ny,nz)), \"km/s\") # zero velocity in the z-direction\n",
      "bbox = np.array([[-0.5,0.5],[-0.5,0.5],[-0.5,0.5]])\n",
      "ds = load_uniform_grid(data, (nx,ny,nz), length_unit=(2*R,\"kpc\"), nprocs=1, bbox=bbox)"
     ],
     "language": "python",
     "metadata": {},
     "outputs": []
    },
    {
     "cell_type": "markdown",
     "metadata": {},
     "source": [
      "To get a sense of what the data looks like, we'll take a slice through the middle of the disk:"
     ]
    },
    {
     "cell_type": "code",
     "collapsed": false,
     "input": [
      "slc = SlicePlot(ds, \"z\", [\"density\",\"velocity_x\",\"velocity_y\",\"velocity_magnitude\"])"
     ],
     "language": "python",
     "metadata": {},
     "outputs": []
    },
    {
     "cell_type": "code",
     "collapsed": false,
     "input": [
      "slc.set_log(\"velocity_x\", False)\n",
      "slc.set_log(\"velocity_y\", False)\n",
      "slc.set_log(\"velocity_magnitude\", False)\n",
      "slc.set_unit(\"velocity_magnitude\", \"km/s\")\n",
      "slc.show()"
     ],
     "language": "python",
     "metadata": {},
     "outputs": []
    },
    {
     "cell_type": "markdown",
     "metadata": {},
     "source": [
      "Which shows a rotating disk with a specific density and velocity profile. Now, suppose we wanted to look at this disk galaxy from a certain orientation angle, and simulate a 3D FITS data cube where we can see the gas that is emitting at different velocities along the line of sight. We can do this using the `PPVCube` class. First, let's assume we rotate our viewing angle 60 degrees from face-on, from along the z-axis into the y-axis. We'll create a normal vector:"
     ]
    },
    {
     "cell_type": "code",
     "collapsed": false,
     "input": [
      "i = 60.*np.pi/180.\n",
      "L = [0.0,np.sin(i),np.sin(i)]"
     ],
     "language": "python",
     "metadata": {},
     "outputs": []
    },
    {
     "cell_type": "markdown",
     "metadata": {},
     "source": [
      "Next, we need to specify a field that will serve as the \"intensity\" of the emission that we see. For simplicity, we'll simply choose the gas density as this field, though it could be any field (including derived fields) in principle. We also need to specify the dimensions of the data cube, and optionally we may choose the bounds in line-of-sight velocity that the data will be binned into. Otherwise, the bounds will simply be set to the negative and positive of the largest speed in the dataset."
     ]
    },
    {
     "cell_type": "code",
     "collapsed": false,
     "input": [
      "cube = PPVCube(ds, L, \"density\", dims=(200,100,50), velocity_bounds=(-0.5,0.5,\"km/s\"))"
     ],
     "language": "python",
     "metadata": {},
     "outputs": []
    },
    {
     "cell_type": "markdown",
     "metadata": {},
     "source": [
      "Following this, we can now write this cube to a FITS file:"
     ]
    },
    {
     "cell_type": "code",
     "collapsed": false,
     "input": [
      "cube.write_fits(\"cube.fits\", clobber=True, length_unit=(5.0,\"deg\"), velocity_unit=\"km/s\")"
     ],
     "language": "python",
     "metadata": {},
     "outputs": []
    },
    {
     "cell_type": "markdown",
     "metadata": {},
     "source": [
      "Now, we'll look at the FITS dataset in yt and look at different slices along the velocity axis, which is the \"z\" axis:"
     ]
    },
    {
     "cell_type": "code",
     "collapsed": false,
     "input": [
      "pf = load(\"cube.fits\")\n",
      "slc = SlicePlot(pf, \"z\", [\"density\"], center=\"c\") # sliced at the center of the domain\n",
      "slc.show()"
     ],
     "language": "python",
     "metadata": {},
     "outputs": []
    },
    {
     "cell_type": "code",
     "collapsed": false,
     "input": [
      "# To figure out what the domain center and width is in pixel (code length) units:\n",
      "print pf.domain_center\n",
      "print pf.domain_width"
     ],
     "language": "python",
     "metadata": {},
     "outputs": []
    },
    {
     "cell_type": "code",
     "collapsed": false,
     "input": [
      "slc = SlicePlot(pf, \"z\", [\"density\"], center=[100.5,50.5,10.0]) # \"z\" slice is in pixel (code length) units\n",
      "slc.show()"
     ],
     "language": "python",
     "metadata": {},
     "outputs": []
    },
    {
     "cell_type": "code",
     "collapsed": false,
     "input": [
      "slc = SlicePlot(pf, \"z\", [\"density\"], center=[100.5,50.5,40.0])\n",
      "slc.show()"
     ],
     "language": "python",
     "metadata": {},
     "outputs": []
    }
   ],
   "metadata": {}
  }
 ]
}