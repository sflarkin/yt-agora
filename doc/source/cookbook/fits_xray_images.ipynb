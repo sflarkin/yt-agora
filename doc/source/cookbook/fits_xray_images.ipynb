{
 "metadata": {
  "name": "",
  "signature": "sha256:564cb1986609d8bb76397a18219974504231b260f912bed483b87c1f896e92ac"
 },
 "nbformat": 3,
 "nbformat_minor": 0,
 "worksheets": [
  {
   "cells": [
    {
     "cell_type": "code",
     "collapsed": false,
     "input": [
      "%matplotlib inline\n",
      "import yt\n",
      "import numpy as np"
     ],
     "language": "python",
     "metadata": {},
     "outputs": []
    },
    {
     "cell_type": "markdown",
     "metadata": {},
     "source": [
      "This notebook shows how to use `yt` to make plots and examine FITS X-ray images and events files. "
     ]
    },
    {
     "cell_type": "heading",
     "level": 2,
     "metadata": {},
     "source": [
      "Sloshing, Shocks, and Bubbles in Abell 2052"
     ]
    },
    {
     "cell_type": "markdown",
     "metadata": {},
     "source": [
      "This example uses data provided by [Scott Randall](http://hea-www.cfa.harvard.edu/~srandall/), presented originally in [Blanton, E.L., Randall, S.W., Clarke, T.E., et al. 2011, ApJ, 737, 99](http://adsabs.harvard.edu/cgi-bin/bib_query?2011ApJ...737...99B). They consist of two files, a \"flux map\" in counts/s/pixel between 0.3 and 2 keV, and a spectroscopic temperature map in keV. "
     ]
    },
    {
     "cell_type": "code",
     "collapsed": false,
     "input": [
      "ds = yt.load(\"fits/A2052_merged_0.3-2_match-core_tmap_bgecorr.fits\", \n",
      "             slave_files=[\"fits/A2052_core_tmap_b1_m2000_.fits\"])"
     ],
     "language": "python",
     "metadata": {},
     "outputs": []
    },
    {
     "cell_type": "markdown",
     "metadata": {},
     "source": [
      "Since the flux and projected temperature images are in two different files, we had to use one of them (in this case the \"flux\" file) as a master file, and pass in the \"temperature\" file with the `slave_files` keyword to `load`. "
     ]
    },
    {
     "cell_type": "markdown",
     "metadata": {},
     "source": [
      "Next, let's derive some new fields for the number of counts, the \"pseudo-pressure\", and the \"pseudo-entropy\":"
     ]
    },
    {
     "cell_type": "code",
     "collapsed": false,
     "input": [
      "ds.index\n",
      "def _counts(field, data):\n",
      "    exposure_time = data.get_field_parameter(\"exposure_time\")\n",
      "    return data[\"flux\"]*data[\"pixel\"]*exposure_time\n",
      "ds.field_info.add_field(name=\"counts\", function=_counts, units=\"counts\")\n",
      "\n",
      "def _pp(field, data):\n",
      "    return np.sqrt(data[\"counts\"])*data[\"projected_temperature\"]\n",
      "ds.field_info.add_field(name=\"pseudo_pressure\", function=_pp, units=\"sqrt(counts)*keV\")\n",
      "\n",
      "def _pe(field, data):\n",
      "    return data[\"projected_temperature\"]*data[\"counts\"]**(-1./3.)\n",
      "ds.field_info.add_field(name=\"pseudo_entropy\", function=_pe, units=\"keV*(counts)**(-1/3)\")"
     ],
     "language": "python",
     "metadata": {},
     "outputs": []
    },
    {
     "cell_type": "markdown",
     "metadata": {},
     "source": [
      "Here, we're deriving a \"counts\" field from the \"flux\" field by passing it a `field_parameter` for the exposure time of the time and multiplying by the pixel scale. Second, we use the fact that the surface brightness is strongly dependent on density ($S_X \\propto \\rho^2$) to use the counts in each pixel as a \"stand-in\". Next, we'll grab the exposure time from the primary FITS header of the flux file and create a `YTQuantity` from it, to be used as a `field_parameter`:"
     ]
    },
    {
     "cell_type": "code",
     "collapsed": false,
     "input": [
      "exposure_time = ds.quan(ds.primary_header[\"exposure\"], \"s\")"
     ],
     "language": "python",
     "metadata": {},
     "outputs": []
    },
    {
     "cell_type": "markdown",
     "metadata": {},
     "source": [
      "Now, we can make the `SlicePlot` object of the fields we want, passing in the `exposure_time` as a `field_parameter`. We'll also set the width of the image to 250 pixels."
     ]
    },
    {
     "cell_type": "code",
     "collapsed": false,
     "input": [
      "slc = yt.SlicePlot(ds, \"z\", \n",
      "                   [\"flux\",\"projected_temperature\",\"pseudo_pressure\",\"pseudo_entropy\"], \n",
      "                   origin=\"native\", field_parameters={\"exposure_time\":exposure_time})\n",
      "slc.set_log(\"flux\",True)\n",
      "slc.set_log(\"pseudo_pressure\",False)\n",
      "slc.set_log(\"pseudo_entropy\",False)\n",
      "slc.set_width(250.)\n",
      "slc.show()"
     ],
     "language": "python",
     "metadata": {},
     "outputs": []
    },
    {
     "cell_type": "heading",
     "level": 2,
     "metadata": {},
     "source": [
      "The Bullet Cluster"
     ]
    },
    {
     "cell_type": "markdown",
     "metadata": {},
     "source": [
      "This example uses an events table file from a ~100 ks exposure of the \"Bullet Cluster\" from the [Chandra Data Archive](http://cxc.harvard.edu/cda/). In this case, the individual photon events are treated as particle fields in `yt`. However, you can make images of the object in different energy bands using the `setup_counts_fields` function. "
     ]
    },
    {
     "cell_type": "code",
     "collapsed": false,
     "input": [
      "from yt.frontends.fits.api import setup_counts_fields"
     ],
     "language": "python",
     "metadata": {},
     "outputs": []
    },
    {
     "cell_type": "markdown",
     "metadata": {},
     "source": [
      "`setup_counts_fields` will take a list of energy bounds (emin, emax) in keV and create a new field from each where the photons in that energy range will be deposited onto the image grid. "
     ]
    },
    {
     "cell_type": "code",
     "collapsed": false,
     "input": [
      "ebounds = [(0.1,2.0),(2.0,5.0)]\n",
      "setup_counts_fields(ebounds)"
     ],
     "language": "python",
     "metadata": {},
     "outputs": []
    },
    {
     "cell_type": "markdown",
     "metadata": {},
     "source": [
      "`load` will handle the events file as FITS image files, and will set up a grid using the WCS information in the file. Optionally, the events may be reblocked to a new resolution. by setting the `\"reblock\"` parameter in the `parameters` dictionary in `load`. `\"reblock\"` must be a power of 2. "
     ]
    },
    {
     "cell_type": "code",
     "collapsed": false,
     "input": [
      "ds2 = yt.load(\"acisf05356N003_evt2.fits.gz\", parameters={\"reblock\":2})"
     ],
     "language": "python",
     "metadata": {},
     "outputs": []
    },
    {
     "cell_type": "markdown",
     "metadata": {},
     "source": [
      "The \"x\", \"y\", \"energy\", and \"time\" fields in the events table are loaded as particle fields. Each one has a name given by \"event\\_\" plus the name of the field:"
     ]
    },
    {
     "cell_type": "code",
     "collapsed": false,
     "input": [
      "dd = ds2.all_data()\n",
      "print dd[\"event_x\"]\n",
      "print dd[\"event_y\"]"
     ],
     "language": "python",
     "metadata": {},
     "outputs": []
    },
    {
     "cell_type": "markdown",
     "metadata": {},
     "source": [
      "Now, we'll make a plot of the two counts fields we made, and pan and zoom to the bullet:"
     ]
    },
    {
     "cell_type": "code",
     "collapsed": false,
     "input": [
      "slc = yt.SlicePlot(ds2, \"z\", [\"counts_0.1-2.0\",\"counts_2.0-5.0\"], origin=\"native\")\n",
      "slc.pan((100.,100.))\n",
      "slc.set_width(500.)\n",
      "slc.show()"
     ],
     "language": "python",
     "metadata": {},
     "outputs": []
    },
    {
     "cell_type": "markdown",
     "metadata": {},
     "source": [
      "The counts fields can take the field parameter `\"sigma\"` and use [AstroPy's convolution routines](http://astropy.readthedocs.org/en/latest/convolution/) to smooth the data with a Gaussian:"
     ]
    },
    {
     "cell_type": "code",
     "collapsed": false,
     "input": [
      "slc = yt.SlicePlot(ds2, \"z\", [\"counts_0.1-2.0\",\"counts_2.0-5.0\"], origin=\"native\",\n",
      "                   field_parameters={\"sigma\":2.}) # This value is in pixel scale\n",
      "slc.pan((100.,100.))\n",
      "slc.set_width(500.)\n",
      "slc.set_zlim(\"counts_0.1-2.0\", 0.01, 100.)\n",
      "slc.set_zlim(\"counts_2.0-5.0\", 0.01, 50.)\n",
      "slc.show()"
     ],
     "language": "python",
     "metadata": {},
     "outputs": []
    }
   ],
   "metadata": {}
  }
 ]
}