{
 "metadata": {
  "name": "",
  "signature": "sha256:4f7d409d15ecc538096d15212923312e2cb4a911ebf5a9cf7edc9bd63a8335e9"
 },
 "nbformat": 3,
 "nbformat_minor": 0,
 "worksheets": [
  {
   "cells": [
    {
     "cell_type": "markdown",
     "metadata": {},
     "source": [
      "This example shows how to embed an animation produced by `matplotlib` into an IPython notebook.  This example makes use of `matplotlib`'s [animation toolkit](http://matplotlib.org/api/animation_api.html) to transform individual frames into a final rendered movie.  \n",
      "\n",
      "Additionally, this uses Jake VanderPlas' [`JSAnimation`](https://github.com/jakevdp/JSAnimation) library to embed the movie as a javascript widget, directly in the notebook.  This does not use `ffmpeg` to stitch the frames together and thus does not require `ffmpeg`.  However, you must have `JSAnimation` installed.\n",
      "\n",
      "To do so, clone to git repostiory and run `python setup.py install` in the root of the repository."
     ]
    },
    {
     "cell_type": "code",
     "collapsed": false,
     "input": [
      "from yt.mods import *\n",
      "from JSAnimation import IPython_display\n",
      "from matplotlib import animation"
     ],
     "language": "python",
     "metadata": {},
     "outputs": []
    },
    {
     "cell_type": "markdown",
     "metadata": {},
     "source": [
      "Here we set up the animation.  We use `yt` to load the data and create each frame and use matplotlib to stitch the frames together.  Note that we customize the plot a bit by calling the `set_zlim` function.  Customizations only need to be applied to the first frame - they will carry through to the rest.\n",
      "\n",
      "This may take a while to run, be patient."
     ]
    },
    {
     "cell_type": "code",
     "collapsed": false,
     "input": [
      "import matplotlib.pyplot as plt\n",
      "from matplotlib.backends.backend_agg import FigureCanvasAgg\n",
      "\n",
      "prj = ProjectionPlot(load('Enzo_64/DD0000/data0000'), 0, 'density', weight_field='density',width=(180,'Mpccm'))\n",
      "prj.set_figure_size(5)\n",
      "prj.set_zlim('density',1e-32,1e-26)\n",
      "fig = prj.plots['density'].figure\n",
      "fig.canvas = FigureCanvasAgg(fig)\n",
      "\n",
      "# animation function.  This is called sequentially\n",
      "def animate(i):\n",
      "    pf = load('Enzo_64/DD%04i/data%04i' % (i,i))\n",
      "    prj._switch_pf(pf)\n",
      "\n",
      "# call the animator.  blit=True means only re-draw the parts that have changed.\n",
      "animation.FuncAnimation(fig, animate, frames=44, interval=200, blit=False)"
     ],
     "language": "python",
     "metadata": {},
     "outputs": []
    }
   ],
   "metadata": {}
  }
 ]
}