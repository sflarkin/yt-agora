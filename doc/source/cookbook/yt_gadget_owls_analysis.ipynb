{
 "metadata": {
  "name": ""
 },
 "nbformat": 3,
 "nbformat_minor": 0,
 "worksheets": [
  {
   "cells": [
    {
     "cell_type": "heading",
     "level": 1,
     "metadata": {},
     "source": [
      "OWLS Examples"
     ]
    },
    {
     "cell_type": "heading",
     "level": 2,
     "metadata": {},
     "source": [
      "Setup"
     ]
    },
    {
     "cell_type": "markdown",
     "metadata": {},
     "source": [
      "The first thing you will need to run these examples is a working installation of yt.  The author or these examples followed the instructions under \"Get yt: from source\" at http://yt-project.org/ to install an up to date development version of yt.\n",
      "\n",
      "Next you should set the default ``test_data_dir`` in the ``.yt/config`` file in your home directory.  Note that you may have to create the directory and file if it doesn't exist already.\n",
      "\n",
      "> [yt]\n",
      "\n",
      "> test_data_dir=/home/galtay/yt-data\n",
      "\n",
      "Now you should create the directory referenced above (in this case ``/home/galtay/yt-data``).  The first time you request ion fields from yt it will download a supplementary data file to this directory. \n",
      "\n",
      "Next we will get an example OWLS snapshot.  There is a snapshot available on the yt data site, http://yt-project.org/data/snapshot_033.tar.gz (269 MB).  Save this tar.gz file in the same directory as this notebook, then unzip and untar it.  "
     ]
    },
    {
     "cell_type": "markdown",
     "metadata": {},
     "source": [
      "Now we will tell the notebook that we want figures produced inline. "
     ]
    },
    {
     "cell_type": "code",
     "collapsed": false,
     "input": [
      "%matplotlib inline"
     ],
     "language": "python",
     "metadata": {},
     "outputs": []
    },
    {
     "cell_type": "heading",
     "level": 2,
     "metadata": {},
     "source": [
      "Loading"
     ]
    },
    {
     "cell_type": "code",
     "collapsed": false,
     "input": [
      "import yt"
     ],
     "language": "python",
     "metadata": {},
     "outputs": []
    },
    {
     "cell_type": "markdown",
     "metadata": {},
     "source": [
      "Now we will load the snapshot.  See the docs (http://yt-project.org/docs/dev/examining/loading_data.html#indexing-criteria) for a description of ``n_ref`` and ``over_refine_factor``."
     ]
    },
    {
     "cell_type": "code",
     "collapsed": false,
     "input": [
      "fname = 'snapshot_033/snap_033.0.hdf5'\n",
      "ds = yt.load(fname, n_ref=64, over_refine_factor=1)"
     ],
     "language": "python",
     "metadata": {},
     "outputs": []
    },
    {
     "cell_type": "markdown",
     "metadata": {},
     "source": [
      "Set a ``YTRegion`` that contains all the data."
     ]
    },
    {
     "cell_type": "code",
     "collapsed": false,
     "input": [
      "ad = ds.all_data()"
     ],
     "language": "python",
     "metadata": {},
     "outputs": []
    },
    {
     "cell_type": "heading",
     "level": 2,
     "metadata": {},
     "source": [
      "Inspecting "
     ]
    },
    {
     "cell_type": "markdown",
     "metadata": {},
     "source": [
      "The dataset can tell us what fields it knows about, "
     ]
    },
    {
     "cell_type": "code",
     "collapsed": false,
     "input": [
      "ds.field_list"
     ],
     "language": "python",
     "metadata": {},
     "outputs": []
    },
    {
     "cell_type": "code",
     "collapsed": false,
     "input": [
      "ds.derived_field_list"
     ],
     "language": "python",
     "metadata": {},
     "outputs": []
    },
    {
     "cell_type": "markdown",
     "metadata": {},
     "source": [
      "Note that the ion fields follow the naming convention described in YTEP-0003 http://ytep.readthedocs.org/en/latest/YTEPs/YTEP-0003.html#molecular-and-atomic-species-names"
     ]
    },
    {
     "cell_type": "heading",
     "level": 2,
     "metadata": {},
     "source": [
      "Accessing Particle Data"
     ]
    },
    {
     "cell_type": "markdown",
     "metadata": {},
     "source": [
      "The raw particle data can be accessed using the particle types.  This corresponds directly with what is in the hdf5 snapshots. "
     ]
    },
    {
     "cell_type": "code",
     "collapsed": false,
     "input": [
      "ad['PartType0', 'Coordinates']"
     ],
     "language": "python",
     "metadata": {},
     "outputs": []
    },
    {
     "cell_type": "code",
     "collapsed": false,
     "input": [
      "ad['PartType4', 'IronFromSNIa']"
     ],
     "language": "python",
     "metadata": {},
     "outputs": []
    },
    {
     "cell_type": "code",
     "collapsed": false,
     "input": [
      "ad['PartType1', 'ParticleIDs']"
     ],
     "language": "python",
     "metadata": {},
     "outputs": []
    },
    {
     "cell_type": "code",
     "collapsed": false,
     "input": [
      "ad['PartType0', 'Hydrogen']"
     ],
     "language": "python",
     "metadata": {},
     "outputs": []
    },
    {
     "cell_type": "heading",
     "level": 2,
     "metadata": {},
     "source": [
      "Projection Plots"
     ]
    },
    {
     "cell_type": "markdown",
     "metadata": {},
     "source": [
      "The projection plots make use of derived fields that store the smoothed particle data (particles smoothed onto an oct-tree).  Below we make a projection of all hydrogen gas followed by only the neutral hydrogen gas. "
     ]
    },
    {
     "cell_type": "code",
     "collapsed": false,
     "input": [
      "pz = yt.ProjectionPlot(ds, 'z', ('gas', 'H_density'))"
     ],
     "language": "python",
     "metadata": {},
     "outputs": []
    },
    {
     "cell_type": "code",
     "collapsed": false,
     "input": [
      "pz.show()"
     ],
     "language": "python",
     "metadata": {},
     "outputs": []
    },
    {
     "cell_type": "code",
     "collapsed": false,
     "input": [
      "pz = yt.ProjectionPlot(ds, 'z', ('gas', 'H_p0_density'))"
     ],
     "language": "python",
     "metadata": {},
     "outputs": []
    },
    {
     "cell_type": "code",
     "collapsed": false,
     "input": [
      "pz.show()"
     ],
     "language": "python",
     "metadata": {},
     "outputs": []
    }
   ],
   "metadata": {}
  }
 ]
}