{
 "metadata": {
  "name": "",
  "signature": "sha256:582d4a76ac5b79dcf7b615cfc76dc53ab2ac910bc71b8a180b5fa94fa7cea25d"
 },
 "nbformat": 3,
 "nbformat_minor": 0,
 "worksheets": [
  {
   "cells": [
    {
     "cell_type": "heading",
     "level": 3,
     "metadata": {},
     "source": [
      "New in yt-3.0"
     ]
    },
    {
     "cell_type": "markdown",
     "metadata": {},
     "source": [
      "Right now we plan to include two major user-facing changes in `yt` 3.0.  The first is the addition of symbolic units, about which I will go into much more detail shortly.  The second is a change in the field naming convention to be more rational and conform better to standard Python practices. The version of `yt` I am using to run this section of the notebook includes both of these changes, so you'll see that I'm using slightly different field names than you may be used to seeing. In general, field names that were CamelCased before will now be lower_case_underscored.\n",
      "\n",
      "The motiviation for these changes are described in [YTEP-0011](http://ytep.readthedocs.org/en/latest/YTEPs/YTEP-0011.html) and [YTEP-0003](http://ytep.readthedocs.org/en/latest/YTEPs/YTEP-0003.html), respectively. More information about the `yt` enhancement proposal (YTEP) process is available on the [YTEP page](http://ytep.readthedocs.org/en/latest/)."
     ]
    },
    {
     "cell_type": "heading",
     "level": 3,
     "metadata": {},
     "source": [
      "Dimensional analysis"
     ]
    },
    {
     "cell_type": "markdown",
     "metadata": {},
     "source": [
      "The fastest way to get into the unit system is to explore the quantities that live in the `yt.units` namespace:"
     ]
    },
    {
     "cell_type": "code",
     "collapsed": false,
     "input": [
      "from yt.units import meter, gram, kilogram, second, joule\n",
      "print kilogram*meter**2/second**2 == joule\n",
      "print kilogram*meter**2/second**2"
     ],
     "language": "python",
     "metadata": {},
     "outputs": []
    },
    {
     "cell_type": "code",
     "collapsed": false,
     "input": [
      "from yt.units import m, kg, s, W\n",
      "kg*m**2/s**3 == W"
     ],
     "language": "python",
     "metadata": {},
     "outputs": []
    },
    {
     "cell_type": "code",
     "collapsed": false,
     "input": [
      "from yt.units import kilometer\n",
      "three_kilometers = 3*kilometer\n",
      "print three_kilometers"
     ],
     "language": "python",
     "metadata": {},
     "outputs": []
    },
    {
     "cell_type": "code",
     "collapsed": false,
     "input": [
      "from yt.units import gram, kilogram\n",
      "print gram+kilogram\n",
      "\n",
      "print kilogram+gram\n",
      "\n",
      "print kilogram/gram"
     ],
     "language": "python",
     "metadata": {},
     "outputs": []
    },
    {
     "cell_type": "markdown",
     "metadata": {},
     "source": [
      "These unit symbols are all instances of a new class we've added to `yt` 3.0, `YTQuantity`. `YTQuantity` is useful for storing a single data point."
     ]
    },
    {
     "cell_type": "code",
     "collapsed": false,
     "input": [
      "type(kilogram)"
     ],
     "language": "python",
     "metadata": {},
     "outputs": []
    },
    {
     "cell_type": "markdown",
     "metadata": {},
     "source": [
      "We also provide `YTArray`, which can store arrays of quantities:"
     ]
    },
    {
     "cell_type": "code",
     "collapsed": false,
     "input": [
      "arr = [3,4,5]*kilogram\n",
      "\n",
      "print arr\n",
      "\n",
      "print type(arr)"
     ],
     "language": "python",
     "metadata": {},
     "outputs": []
    },
    {
     "cell_type": "heading",
     "level": 3,
     "metadata": {},
     "source": [
      "Creating arrays and quantities"
     ]
    },
    {
     "cell_type": "markdown",
     "metadata": {},
     "source": [
      "Most people will interact with the new unit system using `YTArray` and `YTQuantity`.  These are both subclasses of numpy's fast array type, `ndarray`, and can be used interchangably with other NumPy arrays. These new classes make use of the unit system to append unit metadata to the underlying `ndarray`.  `YTArray` is intended to store array data, while `YTQuantitity` is intended to store scalars in a particular unit system.\n",
      "\n",
      "There are two ways to create arrays and quantities. The first is to explicitly create it by calling the class constructor and supplying a unit string:"
     ]
    },
    {
     "cell_type": "code",
     "collapsed": false,
     "input": [
      "from yt.units.yt_array import YTArray as array\n",
      "\n",
      "sample_array = array([1,2,3], 'g/cm**3')\n",
      "\n",
      "print sample_array"
     ],
     "language": "python",
     "metadata": {},
     "outputs": []
    },
    {
     "cell_type": "markdown",
     "metadata": {},
     "source": [
      "The unit string can be an arbitrary combination of metric unit names.  Just a few examples:"
     ]
    },
    {
     "cell_type": "code",
     "collapsed": false,
     "input": [
      "from yt.units.yt_array import YTQuantity as quantity\n",
      "from yt.utilities.physical_constants import kboltz\n",
      "from numpy.random import random\n",
      "import numpy as np\n",
      "\n",
      "print \"Length:\"\n",
      "print quantity(random(), 'm')\n",
      "print quantity(random(), 'cm')\n",
      "print quantity(random(), 'Mpc')\n",
      "print quantity(random(), 'AU')\n",
      "print ''\n",
      "\n",
      "print \"Time:\"\n",
      "print quantity(random(), 's')\n",
      "print quantity(random(), 'min')\n",
      "print quantity(random(), 'hr')\n",
      "print quantity(random(), 'day')\n",
      "print quantity(random(), 'yr')\n",
      "print ''\n",
      "\n",
      "print \"Mass:\"\n",
      "print quantity(random(), 'g')\n",
      "print quantity(random(), 'kg')\n",
      "print quantity(random(), 'Msun')\n",
      "print ''\n",
      "\n",
      "print \"Energy:\"\n",
      "print quantity(random(), 'erg')\n",
      "print quantity(random(), 'g*cm**2/s**2')\n",
      "print quantity(random(), 'eV')\n",
      "print quantity(random(), 'J')\n",
      "print ''\n",
      "\n",
      "print \"Temperature:\"\n",
      "print quantity(random(), 'K')\n",
      "print (quantity(random(), 'eV')/kboltz).in_cgs()"
     ],
     "language": "python",
     "metadata": {},
     "outputs": []
    },
    {
     "cell_type": "markdown",
     "metadata": {},
     "source": [
      "Dimensional arrays and quantities can also be created by multiplication with another array or quantity:"
     ]
    },
    {
     "cell_type": "code",
     "collapsed": false,
     "input": [
      "from yt.units import kilometer\n",
      "print kilometer"
     ],
     "language": "python",
     "metadata": {},
     "outputs": []
    },
    {
     "cell_type": "code",
     "collapsed": false,
     "input": [
      "three_kilometers = 3*kilometer\n",
      "print three_kilometers"
     ],
     "language": "python",
     "metadata": {},
     "outputs": []
    },
    {
     "cell_type": "markdown",
     "metadata": {},
     "source": [
      "Unit metadata is encoded in the `units` attribute that hangs off of `YTArray` or `YTQuantity` instances:"
     ]
    },
    {
     "cell_type": "code",
     "collapsed": false,
     "input": [
      "from yt.units import kilometer, erg\n",
      "\n",
      "print \"kilometer's units:\", kilometer.units\n",
      "print \"kilometer's dimensions:\", kilometer.units.dimensions\n",
      "\n",
      "print ''\n",
      "\n",
      "print \"erg's units:\", erg.units\n",
      "print \"erg's dimensions: \", erg.units.dimensions"
     ],
     "language": "python",
     "metadata": {},
     "outputs": []
    },
    {
     "cell_type": "markdown",
     "metadata": {},
     "source": [
      "Of course it wouldn't be very useful if all we could do is create data with units.  The real power of the new unit system is that we can add, subtract, mutliply, and divide using quantities and dimensional arrays:"
     ]
    },
    {
     "cell_type": "code",
     "collapsed": false,
     "input": [
      "a = quantity(3, 'cm')\n",
      "b = quantity(3, 'm')\n",
      "\n",
      "print a+b\n",
      "print b+a\n",
      "print ''\n",
      "\n",
      "print (a+b).in_units('ft')"
     ],
     "language": "python",
     "metadata": {},
     "outputs": []
    },
    {
     "cell_type": "code",
     "collapsed": false,
     "input": [
      "a = quantity(42, 'mm')\n",
      "b = quantity(1, 's')\n",
      "\n",
      "print a/b\n",
      "print (a/b).in_cgs()\n",
      "print (a/b).in_units('km/s')\n",
      "print ''\n",
      "\n",
      "print a*b\n",
      "print (a*b).in_cgs()"
     ],
     "language": "python",
     "metadata": {},
     "outputs": []
    },
    {
     "cell_type": "code",
     "collapsed": false,
     "input": [
      "m = quantity(35, 'g')\n",
      "a = quantity(9.8, 'm/s**2')\n",
      "\n",
      "print m*a\n",
      "print (m*a).in_units('dyne')"
     ],
     "language": "python",
     "metadata": {},
     "outputs": []
    },
    {
     "cell_type": "code",
     "collapsed": false,
     "input": [
      "from yt.utilities.physical_constants import G, kboltz\n",
      "\n",
      "print \"Newton's constant: \", G\n",
      "print \"Boltzmann constant: \", kboltz"
     ],
     "language": "python",
     "metadata": {},
     "outputs": []
    },
    {
     "cell_type": "code",
     "collapsed": false,
     "input": [
      "rho = quantity(1, 'g/cm**3')\n",
      "t_ff = (G*rho)**(-0.5)\n",
      "\n",
      "print t_ff"
     ],
     "language": "python",
     "metadata": {},
     "outputs": []
    },
    {
     "cell_type": "markdown",
     "metadata": {},
     "source": [
      "An exception is raised if we try to do a unit operation that doesn't make any sense:"
     ]
    },
    {
     "cell_type": "code",
     "collapsed": false,
     "input": [
      "a = quantity(3, 'm')\n",
      "b = quantity(5, 'erg')\n",
      "\n",
      "print a+b"
     ],
     "language": "python",
     "metadata": {},
     "outputs": []
    },
    {
     "cell_type": "markdown",
     "metadata": {},
     "source": [
      "A plain `ndarray` or a `YTArray` created with empty units is treated as a dimensionless quantity and can be used in situations where unit consistency allows it to be used: "
     ]
    },
    {
     "cell_type": "code",
     "collapsed": false,
     "input": [
      "a = array([1.,2.,3.], 'm')\n",
      "b = np.array([2.,2.,2.])\n",
      "\n",
      "print \"a:   \", a\n",
      "print \"b:   \", b\n",
      "print \"a*b: \", a*b"
     ],
     "language": "python",
     "metadata": {},
     "outputs": []
    },
    {
     "cell_type": "code",
     "collapsed": false,
     "input": [
      "c = array([2,2,2])\n",
      "\n",
      "print \"c:    \", c\n",
      "print \"a*c:  \", a*c"
     ],
     "language": "python",
     "metadata": {},
     "outputs": []
    },
    {
     "cell_type": "markdown",
     "metadata": {},
     "source": [
      "Operations with dimensionless arrays that would break unit consistency are not allowed:"
     ]
    },
    {
     "cell_type": "code",
     "collapsed": false,
     "input": [
      "print a+c"
     ],
     "language": "python",
     "metadata": {},
     "outputs": []
    }
   ],
   "metadata": {}
  }
 ]
}