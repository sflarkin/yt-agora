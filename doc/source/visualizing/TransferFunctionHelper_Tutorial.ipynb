{
 "metadata": {
  "name": ""
 },
 "nbformat": 3,
 "nbformat_minor": 0,
 "worksheets": [
  {
   "cells": [
    {
     "cell_type": "markdown",
     "metadata": {},
     "source": [
      "# `TransferFunctionHelper`: Building Beautiful Transfer Functions\n",
      "\n",
      "Here, we explain how to use TransferFunctionHelper to visualize and interpret `yt` volume rendering transfer functions.  TransferFunctionHelper is a utility class that makes it easy to visualize he probability density functions of yt fields that you might want to volume render.  This makes it easier to choose a nice transfer function that highlights interesting physical regimes.\n",
      "\n",
      "First, we set up our namespace and define a convenience function to display volume renderings inline in the notebook.  Using `%matplotlib inline` makes it so matplotlib plots display inline in the notebook."
     ]
    },
    {
     "cell_type": "code",
     "collapsed": false,
     "input": [
      "%matplotlib inline\n",
      "from yt.mods import *\n",
      "from IPython.core.display import Image\n",
      "from yt.visualization.volume_rendering.transfer_function_helper import TransferFunctionHelper\n",
      "\n",
      "def showme(np_im):\n",
      "    np_im[np_im != np_im] = 0.0\n",
      "    imb = write_bitmap(np_im, None)\n",
      "    return Image(imb)"
     ],
     "language": "python",
     "metadata": {},
     "outputs": []
    },
    {
     "cell_type": "markdown",
     "metadata": {},
     "source": [
      "Next, we load up a low resolution Enzo cosmological simulation."
     ]
    },
    {
     "cell_type": "code",
     "collapsed": false,
     "input": [
      "pf = load('Enzo_64/DD0043/data0043')"
     ],
     "language": "python",
     "metadata": {},
     "outputs": []
    },
    {
     "cell_type": "markdown",
     "metadata": {},
     "source": [
      "Now that we have the dataset loaded, let's create a `TransferFunctionHelper` to visualize the dataset and transfer function we'd like to use."
     ]
    },
    {
     "cell_type": "code",
     "collapsed": false,
     "input": [
      "tfh = TransferFunctionHelper(pf)"
     ],
     "language": "python",
     "metadata": {},
     "outputs": []
    },
    {
     "cell_type": "markdown",
     "metadata": {},
     "source": [
      "`TransferFunctionHelpler` will intelligently choose transfer function bounds based on the data values.  Use the `plot()` method to take a look at the transfer function."
     ]
    },
    {
     "cell_type": "code",
     "collapsed": false,
     "input": [
      "# Build a transfer function that is a multivariate gaussian in Density\n",
      "tfh = TransferFunctionHelper(pf)\n",
      "tfh.set_field('temperature')\n",
      "tfh.set_log(True)\n",
      "tfh.set_bounds()\n",
      "tfh.build_transfer_function()\n",
      "tfh.tf.add_layers(5)\n",
      "tfh.plot()"
     ],
     "language": "python",
     "metadata": {},
     "outputs": []
    },
    {
     "cell_type": "markdown",
     "metadata": {},
     "source": [
      "Let's also look at the probability density function of the `CellMass` field as a function of `Temperature`.  This might give us an idea where there is a lot of structure. "
     ]
    },
    {
     "cell_type": "code",
     "collapsed": false,
     "input": [
      "tfh.plot(profile_field='CellMass')"
     ],
     "language": "python",
     "metadata": {},
     "outputs": []
    },
    {
     "cell_type": "markdown",
     "metadata": {},
     "source": [
      "It looks like most of the gas is hot but there is still a lot of low-density cool gas.  Let's construct a transfer function that highlights both the rarefied hot gas and the dense cool gas simultaneously."
     ]
    },
    {
     "cell_type": "code",
     "collapsed": false,
     "input": [
      "tfh = TransferFunctionHelper(pf)\n",
      "tfh.set_field('temperature')\n",
      "tfh.set_bounds()\n",
      "tfh.set_log(True)\n",
      "tfh.build_transfer_function()\n",
      "tfh.tf.add_layers(8, w=0.01, mi=4.0, ma=8.0, col_bounds=[4.,8.], alpha=np.logspace(-1,2,7), colormap='RdBu_r')\n",
      "tfh.tf.map_to_colormap(6.0, 8.0, colormap='Reds', scale=10.0)\n",
      "tfh.tf.map_to_colormap(-1.0, 6.0, colormap='Blues_r', scale=1.)\n",
      "\n",
      "tfh.plot(profile_field='CellMass')"
     ],
     "language": "python",
     "metadata": {},
     "outputs": []
    },
    {
     "cell_type": "markdown",
     "metadata": {},
     "source": [
      "Finally, let's take a look at the volume rendering."
     ]
    },
    {
     "cell_type": "code",
     "collapsed": false,
     "input": [
      "L = [-0.1, -1.0, -0.1]\n",
      "c = pf.domain_center\n",
      "W = 1.5*pf.domain_width\n",
      "Npixels = 512 \n",
      "cam = pf.h.camera(c, L, W, Npixels, tfh.tf, fields=['temperature'],\n",
      "                  north_vector=[1.,0.,0.], steady_north=True, \n",
      "                  sub_samples=5, no_ghost=False, l_max=0)\n",
      "\n",
      "# Here we substitute the TransferFunction we constructed earlier.\n",
      "cam.transfer_function = tfh.tf\n",
      "\n",
      "\n",
      "im = cam.snapshot()\n",
      "showme(im[:,:,:3])"
     ],
     "language": "python",
     "metadata": {},
     "outputs": []
    },
    {
     "cell_type": "markdown",
     "metadata": {},
     "source": [
      "We can clearly see that the hot gas is mostly associated with bound structures while the cool gas is associated with low-density voids."
     ]
    }
   ],
   "metadata": {}
  }
 ]
}