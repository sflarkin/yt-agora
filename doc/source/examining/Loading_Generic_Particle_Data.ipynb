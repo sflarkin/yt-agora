{
 "metadata": {
  "name": "",
  "signature": "sha256:6f1c8ea7363ad9579d64fba0cf034e298286142995fc0f5a72a75949c2c767be"
 },
 "nbformat": 3,
 "nbformat_minor": 0,
 "worksheets": [
  {
   "cells": [
    {
     "cell_type": "markdown",
     "metadata": {},
     "source": [
      "This example creates a fake in-memory particle dataset by randomly generating a million particle positions and masses."
     ]
    },
    {
     "cell_type": "markdown",
     "metadata": {},
     "source": [
      "Note that `data` must be a dictionary where the keys are field names and the values are numpy `ndarray`s.  The field names for position and mass must be `particle_position_x`, `particle_position_y`, `particle_position_z`, and `particle_mass`, respectively."
     ]
    },
    {
     "cell_type": "code",
     "collapsed": false,
     "input": [
      "import yt\n",
      "import numpy as np\n",
      "\n",
      "# Create fake particle data for a million particles randomly distributed\n",
      "ppx, ppy, ppz, ppm = np.random.random([4, 1e6])\n",
      "data = {'particle_position_x': ppx,\n",
      "        'particle_position_y': ppy,\n",
      "        'particle_position_z': ppz,\n",
      "        'particle_mass': ppm}"
     ],
     "language": "python",
     "metadata": {},
     "outputs": []
    },
    {
     "cell_type": "markdown",
     "metadata": {},
     "source": [
      "The `load_particles` function accepts a `data` dictionary and creates an in-memory \"stream\" dataset.  The `length_unit` and `mass_unit` are the conversion from the units used in the `data` dictionary to CGS.  I've chosen 1 megaparsec and $10^6$ particles for this fake dataset.  Finally, `n_ref` controls how many particle it takes to accumulate in an oct-tree cell to trigger refinement.  Larger `n_ref` will decrease poisson noise at the cost of memory efficiency."
     ]
    },
    {
     "cell_type": "code",
     "collapsed": false,
     "input": [
      "ds = yt.load_particles(data, length_unit=3.08e24, mass_unit=1.9891e36, n_ref=64)"
     ],
     "language": "python",
     "metadata": {},
     "outputs": []
    },
    {
     "cell_type": "code",
     "collapsed": false,
     "input": [
      "ad = ds.all_data()\n",
      "print ad['deposit', 'all_cic']"
     ],
     "language": "python",
     "metadata": {},
     "outputs": []
    },
    {
     "cell_type": "code",
     "collapsed": false,
     "input": [
      "slc = yt.SlicePlot(ds, 2, ('deposit', 'all_cic'))\n",
      "slc.set_figure_size(4)"
     ],
     "language": "python",
     "metadata": {},
     "outputs": []
    }
   ],
   "metadata": {}
  }
 ]
}